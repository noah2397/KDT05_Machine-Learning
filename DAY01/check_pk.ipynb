{
 "cells": [
  {
   "cell_type": "code",
   "execution_count": 1,
   "metadata": {},
   "outputs": [
    {
     "name": "stdout",
     "output_type": "stream",
     "text": [
      "Pandas            version : 2.1.4\n",
      "Scikit-learn      version : 1.3.0\n",
      "Matplotlib        version : 3.8.0\n",
      "Seaborn           version : 0.12.2\n",
      "beautifulsoup     version : 4.12.2\n",
      "selenium          version : 3.141.0\n"
     ]
    }
   ],
   "source": [
    "## 설치 패키지 버전 체크\n",
    "import pandas as pd\n",
    "import sklearn\n",
    "import matplotlib\n",
    "import seaborn\n",
    "import bs4\n",
    "import selenium\n",
    "\n",
    "print(f'{\"Pandas\":<17} version : {pd.__version__}')\n",
    "print(f'{\"Scikit-learn\":<17} version : {sklearn.__version__}')\n",
    "print(f'{\"Matplotlib\":<17} version : {matplotlib.__version__}')\n",
    "print(f'{\"Seaborn\":<17} version : {seaborn.__version__}')\n",
    "print(f'{\"beautifulsoup\":<17} version : {bs4.__version__}')\n",
    "print(f'{\"selenium\":<17} version : {selenium.__version__}')"
   ]
  },
  {
   "cell_type": "code",
   "execution_count": null,
   "metadata": {},
   "outputs": [],
   "source": []
  }
 ],
 "metadata": {
  "kernelspec": {
   "display_name": "EXAM_ML",
   "language": "python",
   "name": "python3"
  },
  "language_info": {
   "codemirror_mode": {
    "name": "ipython",
    "version": 3
   },
   "file_extension": ".py",
   "mimetype": "text/x-python",
   "name": "python",
   "nbconvert_exporter": "python",
   "pygments_lexer": "ipython3",
   "version": "3.9.18"
  }
 },
 "nbformat": 4,
 "nbformat_minor": 2
}
