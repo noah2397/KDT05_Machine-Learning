{
 "cells": [
  {
   "cell_type": "markdown",
   "id": "75c8e78a6da83edd",
   "metadata": {
    "collapsed": false
   },
   "source": [
    "### 목표 : 생선 품종 분류 모델\n",
    "- 데이터 : fish.csv\n",
    "- 피 쳐 : Weight, Length\n",
    "- 타 겟 : Species\n",
    "- 기계학습 : 지도학습 + 분류( 도미, 빙어 분류는 이진분류)"
   ]
  },
  {
   "cell_type": "markdown",
   "id": "7ad72b813a66b412",
   "metadata": {
    "collapsed": false
   },
   "source": [
    "(1) 모듈 로딩 및 데이터 준비 <hr>"
   ]
  },
  {
   "cell_type": "code",
   "execution_count": 114,
   "id": "b02ca8fc51ac258e",
   "metadata": {
    "ExecuteTime": {
     "end_time": "2024-02-23T05:58:45.686695100Z",
     "start_time": "2024-02-23T05:58:45.335859800Z"
    },
    "collapsed": false
   },
   "outputs": [],
   "source": [
    "import pandas as pd"
   ]
  },
  {
   "cell_type": "code",
   "execution_count": 115,
   "id": "aac8e31e4e6d6165",
   "metadata": {
    "ExecuteTime": {
     "end_time": "2024-02-23T05:59:32.982370Z",
     "start_time": "2024-02-23T05:59:32.973363200Z"
    },
    "collapsed": false
   },
   "outputs": [],
   "source": [
    "# 데이터 파일 설정\n",
    "data_file = '../data/fish.csv'"
   ]
  },
  {
   "cell_type": "code",
   "execution_count": 116,
   "id": "4e244970c9e2681c",
   "metadata": {
    "ExecuteTime": {
     "end_time": "2024-02-23T06:00:34.705607100Z",
     "start_time": "2024-02-23T06:00:34.689650Z"
    },
    "collapsed": false
   },
   "outputs": [
    {
     "name": "stdout",
     "output_type": "stream",
     "text": [
      "<class 'pandas.core.frame.DataFrame'>\n",
      "RangeIndex: 159 entries, 0 to 158\n",
      "Data columns (total 3 columns):\n",
      " #   Column   Non-Null Count  Dtype  \n",
      "---  ------   --------------  -----  \n",
      " 0   Species  159 non-null    object \n",
      " 1   Weight   159 non-null    float64\n",
      " 2   Length   159 non-null    float64\n",
      "dtypes: float64(2), object(1)\n",
      "memory usage: 3.9+ KB\n"
     ]
    }
   ],
   "source": [
    "# DF로 데이터 준비\n",
    "fishDF = pd.read_csv(data_file, usecols=[0,1,2])\n",
    "#fishDF = pd.read_csv(data_file, usecols=[\"Speices\",\"Weight\",\"Length\"])\n",
    "\n",
    "# 기본정보 확인\n",
    "fishDF.info()"
   ]
  },
  {
   "cell_type": "markdown",
   "id": "e5750947dead7fa1",
   "metadata": {
    "collapsed": false
   },
   "source": [
    "(2) 데이터 전처리\n",
    "- 결측치, 중복데이터, 이상치"
   ]
  },
  {
   "cell_type": "code",
   "execution_count": 117,
   "id": "53db526b115d2097",
   "metadata": {
    "ExecuteTime": {
     "end_time": "2024-02-23T06:06:05.731994400Z",
     "start_time": "2024-02-23T06:06:05.712050800Z"
    },
    "collapsed": false
   },
   "outputs": [
    {
     "name": "stdout",
     "output_type": "stream",
     "text": [
      "fishDF.Species =>  ['Bream' 'Roach' 'Whitefish' 'Parkki' 'Perch' 'Pike' 'Smelt']\n",
      "fishDF.Weight =>  [ 242.   290.   340.   363.   430.   450.   500.   390.   475.   600.\n",
      "  700.   610.   650.   575.   685.   620.   680.   725.   720.   714.\n",
      "  850.  1000.   920.   955.   925.   975.   950.    40.    69.    78.\n",
      "   87.   120.     0.   110.   150.   145.   160.   140.   169.   161.\n",
      "  200.   180.   272.   270.   306.   540.   800.    55.    60.    90.\n",
      "  170.   273.   300.     5.9   32.    51.5   70.   100.    80.    85.\n",
      "  115.   125.   130.   135.   225.   188.   197.   218.   260.   265.\n",
      "  250.   320.   514.   556.   840.   690.   900.   820.  1015.  1100.\n",
      "  345.   456.   510.   567.   770.  1250.  1600.  1550.  1650.     6.7\n",
      "    7.5    7.     9.7    9.8    8.7   10.     9.9   12.2   13.4   19.7\n",
      "   19.9]\n",
      "fishDF.Length =>  [25.4 26.3 26.5 29.  29.7 30.  30.7 31.  31.5 32.  33.  33.5 34.  34.5\n",
      " 35.  36.  37.  38.5 39.5 41.  14.1 18.2 18.8 19.8 20.  20.5 20.8 21.\n",
      " 22.  22.5 24.  23.4 23.5 25.2 26.  27.  31.7 28.  36.4 40.  14.7 15.5\n",
      " 17.7 19.  20.7 21.5 23.  25.   8.4 13.7 15.  16.2 17.4 18.  18.7 19.6\n",
      " 21.3 22.7 24.6 25.6 27.3 27.5 28.7 32.8 36.5 39.  42.  43.  43.5 44.\n",
      " 32.3 37.3 38.  42.5 45.  46.  48.  51.7 56.  60.  63.4  9.8 10.5 10.6\n",
      " 11.  11.2 11.3 11.8 12.  12.2 12.4 13.  14.3]\n"
     ]
    }
   ],
   "source": [
    "#컬럼별 고유값으로 이상치 체크 = > unique()\n",
    "print(\"fishDF.Species => \", fishDF.Species.unique())\n",
    "print(\"fishDF.Weight => \", fishDF.Weight.unique())\n",
    "print(\"fishDF.Length => \", fishDF.Length.unique())"
   ]
  },
  {
   "cell_type": "code",
   "execution_count": 118,
   "id": "7ebdb6ef6abb2ab2",
   "metadata": {
    "ExecuteTime": {
     "end_time": "2024-02-23T06:07:16.859038700Z",
     "start_time": "2024-02-23T06:07:16.845084600Z"
    },
    "collapsed": false
   },
   "outputs": [
    {
     "data": {
      "text/plain": [
       "Species    0\n",
       "Weight     0\n",
       "Length     0\n",
       "dtype: int64"
      ]
     },
     "execution_count": 118,
     "metadata": {},
     "output_type": "execute_result"
    }
   ],
   "source": [
    "#결측치 체크 => isna() / isnull()\n",
    "fishDF.isna().sum()"
   ]
  },
  {
   "cell_type": "code",
   "execution_count": 119,
   "id": "5c789bf97a0ddbdd",
   "metadata": {
    "ExecuteTime": {
     "end_time": "2024-02-23T06:07:45.516941200Z",
     "start_time": "2024-02-23T06:07:45.490032700Z"
    },
    "collapsed": false
   },
   "outputs": [
    {
     "data": {
      "text/plain": [
       "4"
      ]
     },
     "execution_count": 119,
     "metadata": {},
     "output_type": "execute_result"
    }
   ],
   "source": [
    "# 중복데이터 체크 => duplicated()\n",
    "fishDF.duplicated().sum()"
   ]
  },
  {
   "cell_type": "code",
   "execution_count": 120,
   "id": "69478e2ec2984d1f",
   "metadata": {
    "ExecuteTime": {
     "end_time": "2024-02-23T06:14:52.962559500Z",
     "start_time": "2024-02-23T06:14:52.948595Z"
    },
    "collapsed": false
   },
   "outputs": [
    {
     "name": "stdout",
     "output_type": "stream",
     "text": [
      "<class 'pandas.core.frame.DataFrame'>\n",
      "RangeIndex: 49 entries, 0 to 48\n",
      "Data columns (total 3 columns):\n",
      " #   Column   Non-Null Count  Dtype  \n",
      "---  ------   --------------  -----  \n",
      " 0   Species  49 non-null     object \n",
      " 1   Weight   49 non-null     float64\n",
      " 2   Length   49 non-null     float64\n",
      "dtypes: float64(2), object(1)\n",
      "memory usage: 1.3+ KB\n"
     ]
    }
   ],
   "source": [
    "# 'Bream', 'Smelt' 두가지 품종 데이터만 추출\n",
    "# fishDF = fishDF[fishDF['Species'].isin(['Bream', 'Smelt'])]\n",
    "mask = fishDF['Species'].isin(['Bream', 'Smelt'])\n",
    "twoFishDF = fishDF[mask]\n",
    "# 인덱스 리셋 : 기존의 인덱스 삭제 후 0-base 인덱스 설정\n",
    "twoFishDF=twoFishDF.reset_index(drop=True) \n",
    "twoFishDF.info()"
   ]
  },
  {
   "cell_type": "markdown",
   "id": "e0f4ee5140f155bd",
   "metadata": {
    "collapsed": false
   },
   "source": [
    "(3) 학습용 데이터 준비 => 피쳐 + 타겟 분리"
   ]
  },
  {
   "cell_type": "code",
   "execution_count": 121,
   "id": "d81a9bf8303e1537",
   "metadata": {
    "ExecuteTime": {
     "end_time": "2024-02-23T06:15:08.996155200Z",
     "start_time": "2024-02-23T06:15:08.978216300Z"
    },
    "collapsed": false
   },
   "outputs": [
    {
     "data": {
      "text/html": [
       "<div>\n",
       "<style scoped>\n",
       "    .dataframe tbody tr th:only-of-type {\n",
       "        vertical-align: middle;\n",
       "    }\n",
       "\n",
       "    .dataframe tbody tr th {\n",
       "        vertical-align: top;\n",
       "    }\n",
       "\n",
       "    .dataframe thead th {\n",
       "        text-align: right;\n",
       "    }\n",
       "</style>\n",
       "<table border=\"1\" class=\"dataframe\">\n",
       "  <thead>\n",
       "    <tr style=\"text-align: right;\">\n",
       "      <th></th>\n",
       "      <th>Weight</th>\n",
       "      <th>Length</th>\n",
       "    </tr>\n",
       "  </thead>\n",
       "  <tbody>\n",
       "    <tr>\n",
       "      <th>0</th>\n",
       "      <td>242.0</td>\n",
       "      <td>25.4</td>\n",
       "    </tr>\n",
       "    <tr>\n",
       "      <th>1</th>\n",
       "      <td>290.0</td>\n",
       "      <td>26.3</td>\n",
       "    </tr>\n",
       "    <tr>\n",
       "      <th>2</th>\n",
       "      <td>340.0</td>\n",
       "      <td>26.5</td>\n",
       "    </tr>\n",
       "    <tr>\n",
       "      <th>3</th>\n",
       "      <td>363.0</td>\n",
       "      <td>29.0</td>\n",
       "    </tr>\n",
       "    <tr>\n",
       "      <th>4</th>\n",
       "      <td>430.0</td>\n",
       "      <td>29.0</td>\n",
       "    </tr>\n",
       "  </tbody>\n",
       "</table>\n",
       "</div>"
      ],
      "text/plain": [
       "   Weight  Length\n",
       "0   242.0    25.4\n",
       "1   290.0    26.3\n",
       "2   340.0    26.5\n",
       "3   363.0    29.0\n",
       "4   430.0    29.0"
      ]
     },
     "execution_count": 121,
     "metadata": {},
     "output_type": "execute_result"
    }
   ],
   "source": [
    "feature = twoFishDF[twoFishDF.columns[1:]]\n",
    "feature.head()"
   ]
  },
  {
   "cell_type": "code",
   "execution_count": 122,
   "id": "4ea5e4fac2519edb",
   "metadata": {
    "ExecuteTime": {
     "end_time": "2024-02-23T06:34:27.478337Z",
     "start_time": "2024-02-23T06:34:27.468369Z"
    },
    "collapsed": false
   },
   "outputs": [
    {
     "name": "stdout",
     "output_type": "stream",
     "text": [
      "0    0\n",
      "1    0\n",
      "2    0\n",
      "Name: Species, dtype: int64\n",
      "\n",
      "46    1\n",
      "47    1\n",
      "48    1\n",
      "Name: Species, dtype: int64\n"
     ]
    }
   ],
   "source": [
    "# 타겟 데이터 추출\n",
    "target = twoFishDF.Species\n",
    "\n",
    "# Bream => 0, Smelt => 1로 값 변환\n",
    "# target = target.map({'Bream':0, 'Smelt':1})\n",
    "target = target.replace({'Bream':0, 'Smelt':1}).copy()\n",
    "print(target.head(3), target.tail(3), sep='\\n\\n')"
   ]
  },
  {
   "cell_type": "markdown",
   "id": "cea97dbc171fbbeb",
   "metadata": {
    "collapsed": false
   },
   "source": [
    "(4) 학습 진행\n",
    "- 알고리즘 구현 인스턴스 생성 => 지도학습 -분류 알고리즘 중 선택\n",
    "- 학습 진행 메서드 => fit()"
   ]
  },
  {
   "cell_type": "code",
   "execution_count": 123,
   "id": "d26cac35",
   "metadata": {},
   "outputs": [],
   "source": [
    "from sklearn.neighbors import KNeighborsClassifier\n",
    "# https://scikit-learn.org/stable/modules/generated/sklearn.neighbors.KNeighborsClassifier.html#sklearn.neighbors.KNeighborsClassifier"
   ]
  },
  {
   "cell_type": "code",
   "execution_count": 124,
   "id": "39d910dc",
   "metadata": {},
   "outputs": [
    {
     "data": {
      "text/html": [
       "<style>#sk-container-id-7 {color: black;}#sk-container-id-7 pre{padding: 0;}#sk-container-id-7 div.sk-toggleable {background-color: white;}#sk-container-id-7 label.sk-toggleable__label {cursor: pointer;display: block;width: 100%;margin-bottom: 0;padding: 0.3em;box-sizing: border-box;text-align: center;}#sk-container-id-7 label.sk-toggleable__label-arrow:before {content: \"▸\";float: left;margin-right: 0.25em;color: #696969;}#sk-container-id-7 label.sk-toggleable__label-arrow:hover:before {color: black;}#sk-container-id-7 div.sk-estimator:hover label.sk-toggleable__label-arrow:before {color: black;}#sk-container-id-7 div.sk-toggleable__content {max-height: 0;max-width: 0;overflow: hidden;text-align: left;background-color: #f0f8ff;}#sk-container-id-7 div.sk-toggleable__content pre {margin: 0.2em;color: black;border-radius: 0.25em;background-color: #f0f8ff;}#sk-container-id-7 input.sk-toggleable__control:checked~div.sk-toggleable__content {max-height: 200px;max-width: 100%;overflow: auto;}#sk-container-id-7 input.sk-toggleable__control:checked~label.sk-toggleable__label-arrow:before {content: \"▾\";}#sk-container-id-7 div.sk-estimator input.sk-toggleable__control:checked~label.sk-toggleable__label {background-color: #d4ebff;}#sk-container-id-7 div.sk-label input.sk-toggleable__control:checked~label.sk-toggleable__label {background-color: #d4ebff;}#sk-container-id-7 input.sk-hidden--visually {border: 0;clip: rect(1px 1px 1px 1px);clip: rect(1px, 1px, 1px, 1px);height: 1px;margin: -1px;overflow: hidden;padding: 0;position: absolute;width: 1px;}#sk-container-id-7 div.sk-estimator {font-family: monospace;background-color: #f0f8ff;border: 1px dotted black;border-radius: 0.25em;box-sizing: border-box;margin-bottom: 0.5em;}#sk-container-id-7 div.sk-estimator:hover {background-color: #d4ebff;}#sk-container-id-7 div.sk-parallel-item::after {content: \"\";width: 100%;border-bottom: 1px solid gray;flex-grow: 1;}#sk-container-id-7 div.sk-label:hover label.sk-toggleable__label {background-color: #d4ebff;}#sk-container-id-7 div.sk-serial::before {content: \"\";position: absolute;border-left: 1px solid gray;box-sizing: border-box;top: 0;bottom: 0;left: 50%;z-index: 0;}#sk-container-id-7 div.sk-serial {display: flex;flex-direction: column;align-items: center;background-color: white;padding-right: 0.2em;padding-left: 0.2em;position: relative;}#sk-container-id-7 div.sk-item {position: relative;z-index: 1;}#sk-container-id-7 div.sk-parallel {display: flex;align-items: stretch;justify-content: center;background-color: white;position: relative;}#sk-container-id-7 div.sk-item::before, #sk-container-id-7 div.sk-parallel-item::before {content: \"\";position: absolute;border-left: 1px solid gray;box-sizing: border-box;top: 0;bottom: 0;left: 50%;z-index: -1;}#sk-container-id-7 div.sk-parallel-item {display: flex;flex-direction: column;z-index: 1;position: relative;background-color: white;}#sk-container-id-7 div.sk-parallel-item:first-child::after {align-self: flex-end;width: 50%;}#sk-container-id-7 div.sk-parallel-item:last-child::after {align-self: flex-start;width: 50%;}#sk-container-id-7 div.sk-parallel-item:only-child::after {width: 0;}#sk-container-id-7 div.sk-dashed-wrapped {border: 1px dashed gray;margin: 0 0.4em 0.5em 0.4em;box-sizing: border-box;padding-bottom: 0.4em;background-color: white;}#sk-container-id-7 div.sk-label label {font-family: monospace;font-weight: bold;display: inline-block;line-height: 1.2em;}#sk-container-id-7 div.sk-label-container {text-align: center;}#sk-container-id-7 div.sk-container {/* jupyter's `normalize.less` sets `[hidden] { display: none; }` but bootstrap.min.css set `[hidden] { display: none !important; }` so we also need the `!important` here to be able to override the default hidden behavior on the sphinx rendered scikit-learn.org. See: https://github.com/scikit-learn/scikit-learn/issues/21755 */display: inline-block !important;position: relative;}#sk-container-id-7 div.sk-text-repr-fallback {display: none;}</style><div id=\"sk-container-id-7\" class=\"sk-top-container\"><div class=\"sk-text-repr-fallback\"><pre>KNeighborsClassifier()</pre><b>In a Jupyter environment, please rerun this cell to show the HTML representation or trust the notebook. <br />On GitHub, the HTML representation is unable to render, please try loading this page with nbviewer.org.</b></div><div class=\"sk-container\" hidden><div class=\"sk-item\"><div class=\"sk-estimator sk-toggleable\"><input class=\"sk-toggleable__control sk-hidden--visually\" id=\"sk-estimator-id-7\" type=\"checkbox\" checked><label for=\"sk-estimator-id-7\" class=\"sk-toggleable__label sk-toggleable__label-arrow\">KNeighborsClassifier</label><div class=\"sk-toggleable__content\"><pre>KNeighborsClassifier()</pre></div></div></div></div></div>"
      ],
      "text/plain": [
       "KNeighborsClassifier()"
      ]
     },
     "execution_count": 124,
     "metadata": {},
     "output_type": "execute_result"
    }
   ],
   "source": [
    "# (4-1) KNN 인스턴스 생성\n",
    "model = KNeighborsClassifier()\n",
    "model"
   ]
  },
  {
   "cell_type": "code",
   "execution_count": 125,
   "id": "ff8a0a4d",
   "metadata": {},
   "outputs": [
    {
     "data": {
      "text/html": [
       "<style>#sk-container-id-8 {color: black;}#sk-container-id-8 pre{padding: 0;}#sk-container-id-8 div.sk-toggleable {background-color: white;}#sk-container-id-8 label.sk-toggleable__label {cursor: pointer;display: block;width: 100%;margin-bottom: 0;padding: 0.3em;box-sizing: border-box;text-align: center;}#sk-container-id-8 label.sk-toggleable__label-arrow:before {content: \"▸\";float: left;margin-right: 0.25em;color: #696969;}#sk-container-id-8 label.sk-toggleable__label-arrow:hover:before {color: black;}#sk-container-id-8 div.sk-estimator:hover label.sk-toggleable__label-arrow:before {color: black;}#sk-container-id-8 div.sk-toggleable__content {max-height: 0;max-width: 0;overflow: hidden;text-align: left;background-color: #f0f8ff;}#sk-container-id-8 div.sk-toggleable__content pre {margin: 0.2em;color: black;border-radius: 0.25em;background-color: #f0f8ff;}#sk-container-id-8 input.sk-toggleable__control:checked~div.sk-toggleable__content {max-height: 200px;max-width: 100%;overflow: auto;}#sk-container-id-8 input.sk-toggleable__control:checked~label.sk-toggleable__label-arrow:before {content: \"▾\";}#sk-container-id-8 div.sk-estimator input.sk-toggleable__control:checked~label.sk-toggleable__label {background-color: #d4ebff;}#sk-container-id-8 div.sk-label input.sk-toggleable__control:checked~label.sk-toggleable__label {background-color: #d4ebff;}#sk-container-id-8 input.sk-hidden--visually {border: 0;clip: rect(1px 1px 1px 1px);clip: rect(1px, 1px, 1px, 1px);height: 1px;margin: -1px;overflow: hidden;padding: 0;position: absolute;width: 1px;}#sk-container-id-8 div.sk-estimator {font-family: monospace;background-color: #f0f8ff;border: 1px dotted black;border-radius: 0.25em;box-sizing: border-box;margin-bottom: 0.5em;}#sk-container-id-8 div.sk-estimator:hover {background-color: #d4ebff;}#sk-container-id-8 div.sk-parallel-item::after {content: \"\";width: 100%;border-bottom: 1px solid gray;flex-grow: 1;}#sk-container-id-8 div.sk-label:hover label.sk-toggleable__label {background-color: #d4ebff;}#sk-container-id-8 div.sk-serial::before {content: \"\";position: absolute;border-left: 1px solid gray;box-sizing: border-box;top: 0;bottom: 0;left: 50%;z-index: 0;}#sk-container-id-8 div.sk-serial {display: flex;flex-direction: column;align-items: center;background-color: white;padding-right: 0.2em;padding-left: 0.2em;position: relative;}#sk-container-id-8 div.sk-item {position: relative;z-index: 1;}#sk-container-id-8 div.sk-parallel {display: flex;align-items: stretch;justify-content: center;background-color: white;position: relative;}#sk-container-id-8 div.sk-item::before, #sk-container-id-8 div.sk-parallel-item::before {content: \"\";position: absolute;border-left: 1px solid gray;box-sizing: border-box;top: 0;bottom: 0;left: 50%;z-index: -1;}#sk-container-id-8 div.sk-parallel-item {display: flex;flex-direction: column;z-index: 1;position: relative;background-color: white;}#sk-container-id-8 div.sk-parallel-item:first-child::after {align-self: flex-end;width: 50%;}#sk-container-id-8 div.sk-parallel-item:last-child::after {align-self: flex-start;width: 50%;}#sk-container-id-8 div.sk-parallel-item:only-child::after {width: 0;}#sk-container-id-8 div.sk-dashed-wrapped {border: 1px dashed gray;margin: 0 0.4em 0.5em 0.4em;box-sizing: border-box;padding-bottom: 0.4em;background-color: white;}#sk-container-id-8 div.sk-label label {font-family: monospace;font-weight: bold;display: inline-block;line-height: 1.2em;}#sk-container-id-8 div.sk-label-container {text-align: center;}#sk-container-id-8 div.sk-container {/* jupyter's `normalize.less` sets `[hidden] { display: none; }` but bootstrap.min.css set `[hidden] { display: none !important; }` so we also need the `!important` here to be able to override the default hidden behavior on the sphinx rendered scikit-learn.org. See: https://github.com/scikit-learn/scikit-learn/issues/21755 */display: inline-block !important;position: relative;}#sk-container-id-8 div.sk-text-repr-fallback {display: none;}</style><div id=\"sk-container-id-8\" class=\"sk-top-container\"><div class=\"sk-text-repr-fallback\"><pre>KNeighborsClassifier()</pre><b>In a Jupyter environment, please rerun this cell to show the HTML representation or trust the notebook. <br />On GitHub, the HTML representation is unable to render, please try loading this page with nbviewer.org.</b></div><div class=\"sk-container\" hidden><div class=\"sk-item\"><div class=\"sk-estimator sk-toggleable\"><input class=\"sk-toggleable__control sk-hidden--visually\" id=\"sk-estimator-id-8\" type=\"checkbox\" checked><label for=\"sk-estimator-id-8\" class=\"sk-toggleable__label sk-toggleable__label-arrow\">KNeighborsClassifier</label><div class=\"sk-toggleable__content\"><pre>KNeighborsClassifier()</pre></div></div></div></div></div>"
      ],
      "text/plain": [
       "KNeighborsClassifier()"
      ]
     },
     "execution_count": 125,
     "metadata": {},
     "output_type": "execute_result"
    }
   ],
   "source": [
    "# (4-2) 학습 진행\n",
    "model.fit(feature, target)"
   ]
  },
  {
   "cell_type": "code",
   "execution_count": 126,
   "id": "5a656017",
   "metadata": {},
   "outputs": [
    {
     "name": "stdout",
     "output_type": "stream",
     "text": [
      "classes_ :  [0 1]\n",
      "feature_names_in_ :  ['Weight' 'Length']\n",
      "n_features_in_ :  2\n"
     ]
    }
   ],
   "source": [
    "# 학습 후 속성 확인\n",
    "print(\"classes_ : \",model.classes_)\n",
    "print(\"feature_names_in_ : \",model.feature_names_in_)\n",
    "print(\"n_features_in_ : \",model.n_features_in_)"
   ]
  },
  {
   "cell_type": "markdown",
   "id": "9c960020",
   "metadata": {},
   "source": [
    "# 학습 데이터는 무조건 2차원 형태를 넣어야 한다!!!!!!!!!!!!!!!!!!!!!!!!!!!!!\n",
    " "
   ]
  },
  {
   "cell_type": "code",
   "execution_count": 127,
   "id": "cbf83531",
   "metadata": {},
   "outputs": [
    {
     "data": {
      "text/plain": [
       "1.0"
      ]
     },
     "execution_count": 127,
     "metadata": {},
     "output_type": "execute_result"
    }
   ],
   "source": [
    "# 모델을 만들었으니, 검사를 해보자\n",
    "# (5) 학습 후 검사, 즉 테스트 => 메서드 : score()\n",
    "# 결괏값은 : 0.0(0%)~1.0(100%)\n",
    "# 사용 데이터는 학습에 사용되지 않은 데이터를 사용해야 한다 \n",
    "model.score(feature, target)\n",
    "# 출력값이 1.0이 나오므로, 100점이다! "
   ]
  },
  {
   "cell_type": "code",
   "execution_count": 128,
   "id": "da088884",
   "metadata": {},
   "outputs": [],
   "source": [
    "#(6) 예측, 즉 서비스에 모델 활용 시 사용 => 메서드 : predict()\n",
    "# 조건 : 학습 시 전달된 데이터와 동일한 형태의 데이터 전달"
   ]
  },
  {
   "cell_type": "code",
   "execution_count": 129,
   "id": "a4405aea",
   "metadata": {},
   "outputs": [
    {
     "name": "stdout",
     "output_type": "stream",
     "text": [
      "3.9.18 (main, Sep 11 2023, 14:09:26) [MSC v.1916 64 bit (AMD64)]\n",
      "c:\\ProgramData\\anaconda3\\envs\\EXAM_ML\\python.exe\n"
     ]
    }
   ],
   "source": [
    "import sys\n",
    "\n",
    "print(sys.version)\n",
    "print(sys.executable)\n"
   ]
  },
  {
   "cell_type": "code",
   "execution_count": 130,
   "id": "514435d3",
   "metadata": {},
   "outputs": [
    {
     "name": "stderr",
     "output_type": "stream",
     "text": [
      "c:\\ProgramData\\anaconda3\\envs\\EXAM_ML\\lib\\site-packages\\sklearn\\base.py:464: UserWarning: X does not have valid feature names, but KNeighborsClassifier was fitted with feature names\n",
      "  warnings.warn(\n"
     ]
    },
    {
     "data": {
      "text/plain": [
       "array([1], dtype=int64)"
      ]
     },
     "execution_count": 130,
     "metadata": {},
     "output_type": "execute_result"
    }
   ],
   "source": [
    "# [무게, 길이]\n",
    "pred_y=model.predict([[19.9,15]]) # feature이름이 없어서 워닝이 뜬다\n",
    "pred_y"
   ]
  },
  {
   "cell_type": "code",
   "execution_count": 131,
   "id": "73123bd6",
   "metadata": {},
   "outputs": [
    {
     "data": {
      "text/plain": [
       "array([1], dtype=int64)"
      ]
     },
     "execution_count": 131,
     "metadata": {},
     "output_type": "execute_result"
    }
   ],
   "source": [
    "# 학습 시 제공된 데이터와 동일한 형태로 제공되야 한다\n",
    "# 열 이름도 잘 설정해주면, 실행이 잘 된다!\n",
    "new_data=pd.DataFrame([[19.9,15]], columns=model.feature_names_in_)\n",
    "pred_y=model.predict(new_data) \n",
    "pred_y # 1(smelt)로 잘 분류되었음을 확인할 수 있다"
   ]
  },
  {
   "cell_type": "code",
   "execution_count": 132,
   "id": "a3738c54",
   "metadata": {},
   "outputs": [
    {
     "data": {
      "text/plain": [
       "array([1], dtype=int64)"
      ]
     },
     "execution_count": 132,
     "metadata": {},
     "output_type": "execute_result"
    }
   ],
   "source": [
    "# 없는 데이터로 해보자\n",
    "new_data=pd.DataFrame([[21.8,17]], columns=model.feature_names_in_)\n",
    "pred_y=model.predict(new_data)\n",
    "pred_y # 없는 데이터여도, 1(smelt)로 잘 분류되었음을 확인할 수 있다"
   ]
  },
  {
   "cell_type": "code",
   "execution_count": 133,
   "id": "b093906e",
   "metadata": {},
   "outputs": [
    {
     "data": {
      "text/plain": [
       "array([[0., 1.]])"
      ]
     },
     "execution_count": 133,
     "metadata": {},
     "output_type": "execute_result"
    }
   ],
   "source": [
    "# 확률값을 읽어오는 메서드 : predict_proba(X)\n",
    "# 예측 확률\n",
    "model.predict_proba(new_data) # 확률값을 보여준다\n",
    "# 0일 확률은 0.0, 1일 확률은 1.1이라는 것을 알 수 있다"
   ]
  },
  {
   "cell_type": "code",
   "execution_count": 134,
   "id": "a1ac98e6",
   "metadata": {},
   "outputs": [
    {
     "data": {
      "text/plain": [
       "RangeIndex(start=0, stop=49, step=1)"
      ]
     },
     "execution_count": 134,
     "metadata": {},
     "output_type": "execute_result"
    }
   ],
   "source": [
    "feature.index"
   ]
  },
  {
   "cell_type": "code",
   "execution_count": 135,
   "id": "c34f98c0",
   "metadata": {},
   "outputs": [
    {
     "data": {
      "text/plain": [
       "(array([[ 2.75862284,  3.42052628,  9.57705592, 10.4       , 10.73312629]]),\n",
       " array([[48, 47, 45, 46, 44]], dtype=int64))"
      ]
     },
     "execution_count": 135,
     "metadata": {},
     "output_type": "execute_result"
    }
   ],
   "source": [
    "# 데이터와 최근접 이웃 데이터 알아내기\n",
    "# 반환값 : 거리, 원소번호 \n",
    "model.kneighbors(new_data)\n",
    "# feature.index는 인덱스가 중간에 잘라져서 너저분한데, \n",
    "# 반환하는 원소번호는 마치 feature가 reset_index를 적용한 상태로 반환해준다!!!\n",
    "# => 그러니까, 뽑아낸 데이터한테 reset_index를 평소에 들여두는 습관이 중요하다!\n",
    "\n",
    "\n",
    "\n",
    "# 해당 값과 제일 가까이 있는 애들 5개를 갖고온다"
   ]
  },
  {
   "cell_type": "code",
   "execution_count": 136,
   "id": "e80e81da",
   "metadata": {},
   "outputs": [],
   "source": [
    "#따라서 feature를 reset_index해준다\n",
    "feature.reset_index(inplace=True, drop=True)"
   ]
  },
  {
   "cell_type": "code",
   "execution_count": 137,
   "id": "3a7bc73e",
   "metadata": {},
   "outputs": [],
   "source": [
    "# getter/setter 메서드\n",
    "# -> 속성값 설정 => setter메서드 : set_속성명\n",
    "# -> 속성값 읽어오기 => getter메서드 : get_속성명\n",
    "#https://scikit-learn.org/stable/modules/generated/sklearn.neighbors.KNeighborsClassifier.html#sklearn.neighbors.KNeighborsClassifier\n",
    "# 해당 사이트의 파라미터를 바꿀 수 있다!\n",
    "\n",
    "\n",
    "# 예를 들어, 모델의 속성값을 확인해보자\n",
    "# 모델의 속성값 확인\n",
    "#model.get_params()\n",
    "# 모델의 속성값 설정\n",
    "#model.set_params(random_state=0)\n",
    "# 모델의 속성값 확인\n",
    "#model.get_params()"
   ]
  },
  {
   "cell_type": "code",
   "execution_count": 138,
   "id": "ac048dc1",
   "metadata": {},
   "outputs": [
    {
     "data": {
      "text/plain": [
       "[17]"
      ]
     },
     "execution_count": 138,
     "metadata": {},
     "output_type": "execute_result"
    }
   ],
   "source": [
    "new_data.Length.to_list()"
   ]
  },
  {
   "cell_type": "code",
   "execution_count": 139,
   "id": "e3a11271",
   "metadata": {},
   "outputs": [
    {
     "ename": "TypeError",
     "evalue": "plot() got an unexpected keyword argument 'x'",
     "output_type": "error",
     "traceback": [
      "\u001b[1;31m---------------------------------------------------------------------------\u001b[0m",
      "\u001b[1;31mTypeError\u001b[0m                                 Traceback (most recent call last)",
      "Cell \u001b[1;32mIn[139], line 3\u001b[0m\n\u001b[0;32m      1\u001b[0m \u001b[38;5;28;01mimport\u001b[39;00m \u001b[38;5;21;01mmatplotlib\u001b[39;00m\u001b[38;5;21;01m.\u001b[39;00m\u001b[38;5;21;01mpyplot\u001b[39;00m \u001b[38;5;28;01mas\u001b[39;00m \u001b[38;5;21;01mplt\u001b[39;00m\n\u001b[0;32m      2\u001b[0m \u001b[38;5;66;03m#plt.scatter(feature[\"Weight\"],feature[\"Length\"])\u001b[39;00m\n\u001b[1;32m----> 3\u001b[0m \u001b[43mplt\u001b[49m\u001b[38;5;241;43m.\u001b[39;49m\u001b[43mplot\u001b[49m\u001b[43m(\u001b[49m\u001b[43mx\u001b[49m\u001b[38;5;241;43m=\u001b[39;49m\u001b[43mnew_data\u001b[49m\u001b[38;5;241;43m.\u001b[39;49m\u001b[43mWeight\u001b[49m\u001b[38;5;241;43m.\u001b[39;49m\u001b[43mto_list\u001b[49m\u001b[43m(\u001b[49m\u001b[43m)\u001b[49m\u001b[43m,\u001b[49m\u001b[43my\u001b[49m\u001b[38;5;241;43m=\u001b[39;49m\u001b[43mnew_data\u001b[49m\u001b[38;5;241;43m.\u001b[39;49m\u001b[43mLength\u001b[49m\u001b[38;5;241;43m.\u001b[39;49m\u001b[43mto_list\u001b[49m\u001b[43m(\u001b[49m\u001b[43m)\u001b[49m\u001b[43m)\u001b[49m\n\u001b[0;32m      4\u001b[0m plt\u001b[38;5;241m.\u001b[39mshow()\n",
      "File \u001b[1;32mc:\\ProgramData\\anaconda3\\envs\\EXAM_ML\\lib\\site-packages\\matplotlib\\pyplot.py:3578\u001b[0m, in \u001b[0;36mplot\u001b[1;34m(scalex, scaley, data, *args, **kwargs)\u001b[0m\n\u001b[0;32m   3570\u001b[0m \u001b[38;5;129m@_copy_docstring_and_deprecators\u001b[39m(Axes\u001b[38;5;241m.\u001b[39mplot)\n\u001b[0;32m   3571\u001b[0m \u001b[38;5;28;01mdef\u001b[39;00m \u001b[38;5;21mplot\u001b[39m(\n\u001b[0;32m   3572\u001b[0m     \u001b[38;5;241m*\u001b[39margs: \u001b[38;5;28mfloat\u001b[39m \u001b[38;5;241m|\u001b[39m ArrayLike \u001b[38;5;241m|\u001b[39m \u001b[38;5;28mstr\u001b[39m,\n\u001b[1;32m   (...)\u001b[0m\n\u001b[0;32m   3576\u001b[0m     \u001b[38;5;241m*\u001b[39m\u001b[38;5;241m*\u001b[39mkwargs,\n\u001b[0;32m   3577\u001b[0m ) \u001b[38;5;241m-\u001b[39m\u001b[38;5;241m>\u001b[39m \u001b[38;5;28mlist\u001b[39m[Line2D]:\n\u001b[1;32m-> 3578\u001b[0m     \u001b[38;5;28;01mreturn\u001b[39;00m gca()\u001b[38;5;241m.\u001b[39mplot(\n\u001b[0;32m   3579\u001b[0m         \u001b[38;5;241m*\u001b[39margs,\n\u001b[0;32m   3580\u001b[0m         scalex\u001b[38;5;241m=\u001b[39mscalex,\n\u001b[0;32m   3581\u001b[0m         scaley\u001b[38;5;241m=\u001b[39mscaley,\n\u001b[0;32m   3582\u001b[0m         \u001b[38;5;241m*\u001b[39m\u001b[38;5;241m*\u001b[39m({\u001b[38;5;124m\"\u001b[39m\u001b[38;5;124mdata\u001b[39m\u001b[38;5;124m\"\u001b[39m: data} \u001b[38;5;28;01mif\u001b[39;00m data \u001b[38;5;129;01mis\u001b[39;00m \u001b[38;5;129;01mnot\u001b[39;00m \u001b[38;5;28;01mNone\u001b[39;00m \u001b[38;5;28;01melse\u001b[39;00m {}),\n\u001b[0;32m   3583\u001b[0m         \u001b[38;5;241m*\u001b[39m\u001b[38;5;241m*\u001b[39mkwargs,\n\u001b[0;32m   3584\u001b[0m     )\n",
      "File \u001b[1;32mc:\\ProgramData\\anaconda3\\envs\\EXAM_ML\\lib\\site-packages\\matplotlib\\axes\\_axes.py:1721\u001b[0m, in \u001b[0;36mAxes.plot\u001b[1;34m(self, scalex, scaley, data, *args, **kwargs)\u001b[0m\n\u001b[0;32m   1478\u001b[0m \u001b[38;5;250m\u001b[39m\u001b[38;5;124;03m\"\"\"\u001b[39;00m\n\u001b[0;32m   1479\u001b[0m \u001b[38;5;124;03mPlot y versus x as lines and/or markers.\u001b[39;00m\n\u001b[0;32m   1480\u001b[0m \n\u001b[1;32m   (...)\u001b[0m\n\u001b[0;32m   1718\u001b[0m \u001b[38;5;124;03m(``'green'``) or hex strings (``'#008000'``).\u001b[39;00m\n\u001b[0;32m   1719\u001b[0m \u001b[38;5;124;03m\"\"\"\u001b[39;00m\n\u001b[0;32m   1720\u001b[0m kwargs \u001b[38;5;241m=\u001b[39m cbook\u001b[38;5;241m.\u001b[39mnormalize_kwargs(kwargs, mlines\u001b[38;5;241m.\u001b[39mLine2D)\n\u001b[1;32m-> 1721\u001b[0m lines \u001b[38;5;241m=\u001b[39m [\u001b[38;5;241m*\u001b[39m\u001b[38;5;28mself\u001b[39m\u001b[38;5;241m.\u001b[39m_get_lines(\u001b[38;5;28mself\u001b[39m, \u001b[38;5;241m*\u001b[39margs, data\u001b[38;5;241m=\u001b[39mdata, \u001b[38;5;241m*\u001b[39m\u001b[38;5;241m*\u001b[39mkwargs)]\n\u001b[0;32m   1722\u001b[0m \u001b[38;5;28;01mfor\u001b[39;00m line \u001b[38;5;129;01min\u001b[39;00m lines:\n\u001b[0;32m   1723\u001b[0m     \u001b[38;5;28mself\u001b[39m\u001b[38;5;241m.\u001b[39madd_line(line)\n",
      "File \u001b[1;32mc:\\ProgramData\\anaconda3\\envs\\EXAM_ML\\lib\\site-packages\\matplotlib\\axes\\_base.py:238\u001b[0m, in \u001b[0;36m_process_plot_var_args.__call__\u001b[1;34m(self, axes, data, *args, **kwargs)\u001b[0m\n\u001b[0;32m    236\u001b[0m \u001b[38;5;28;01mfor\u001b[39;00m pos_only \u001b[38;5;129;01min\u001b[39;00m \u001b[38;5;124m\"\u001b[39m\u001b[38;5;124mxy\u001b[39m\u001b[38;5;124m\"\u001b[39m:\n\u001b[0;32m    237\u001b[0m     \u001b[38;5;28;01mif\u001b[39;00m pos_only \u001b[38;5;129;01min\u001b[39;00m kwargs:\n\u001b[1;32m--> 238\u001b[0m         \u001b[38;5;28;01mraise\u001b[39;00m _api\u001b[38;5;241m.\u001b[39mkwarg_error(\u001b[38;5;28mself\u001b[39m\u001b[38;5;241m.\u001b[39mcommand, pos_only)\n\u001b[0;32m    240\u001b[0m \u001b[38;5;28;01mif\u001b[39;00m \u001b[38;5;129;01mnot\u001b[39;00m args:\n\u001b[0;32m    241\u001b[0m     \u001b[38;5;28;01mreturn\u001b[39;00m\n",
      "\u001b[1;31mTypeError\u001b[0m: plot() got an unexpected keyword argument 'x'"
     ]
    },
    {
     "data": {
      "image/png": "[encoded data removed]",
      "text/plain": [
       "<Figure size 640x480 with 1 Axes>"
      ]
     },
     "metadata": {},
     "output_type": "display_data"
    }
   ],
   "source": [
    "import matplotlib.pyplot as plt\n",
    "#plt.scatter(feature[\"Weight\"],feature[\"Length\"])\n",
    "plt.plot(x=new_data.Weight.to_list(),y=new_data.Length.to_list())\n",
    "plt.show() # 오류를 방출한다  "
   ]
  },
  {
   "cell_type": "code",
   "execution_count": null,
   "id": "ce325309",
   "metadata": {},
   "outputs": [
    {
     "data": {
      "text/plain": [
       "21.8"
      ]
     },
     "execution_count": 57,
     "metadata": {},
     "output_type": "execute_result"
    }
   ],
   "source": [
    "new_data.Weight.to_list()[0]"
   ]
  },
  {
   "cell_type": "code",
   "execution_count": null,
   "id": "47059a7c",
   "metadata": {},
   "outputs": [
    {
     "data": {
      "image/png": "[encoded data removed]",
      "text/plain": [
       "<Figure size 640x480 with 1 Axes>"
      ]
     },
     "metadata": {},
     "output_type": "display_data"
    }
   ],
   "source": [
    "plt.plot(new_data.Weight.to_list()[0],new_data.Length.to_list()[0],\"ro\")\n",
    "plt.show()  "
   ]
  },
  {
   "cell_type": "code",
   "execution_count": 157,
   "id": "47a0e886",
   "metadata": {},
   "outputs": [
    {
     "data": {
      "text/plain": [
       "<matplotlib.collections.PathCollection at 0x2686171ac40>"
      ]
     },
     "execution_count": 157,
     "metadata": {},
     "output_type": "execute_result"
    },
    {
     "data": {
      "image/png": "[encoded data removed]",
      "text/plain": [
       "<Figure size 640x480 with 1 Axes>"
      ]
     },
     "metadata": {},
     "output_type": "display_data"
    }
   ],
   "source": [
    "# 제 2안 \n",
    "# pandas의 Series, DataFrame의 plot() 메서드\n",
    "colormap=[\"blue\",\"orange\"]\n",
    "#feature.plot.scatter(x=\"Weight\",y=\"Length\", c=colormap)\n",
    "#https://pandas.pydata.org/docs/reference/api/pandas.DataFrame.plot.html\n",
    "feature.plot(kind=\"scatter\",x=\"Weight\",y=\"Length\")\n",
    "#아까 만든 오랜지색점을 추가\n",
    "plt.plot(new_data.Weight.to_list()[0],new_data.Length.to_list()[0],\"ro\")\n",
    "# --------------------------------\n",
    "# kneighbors로 찾은 이웃을 그래프에 추가로 그리기\n",
    "x,y = model.kneighbors(new_data)\n",
    "\n",
    "plt.scatter(feature.loc[y[0]].Weight.to_list(),feature.loc[y[0]].Length.to_list(),c=\"orange\",marker=\"o\")"
   ]
  },
  {
   "cell_type": "code",
   "execution_count": 156,
   "id": "5c9d78be",
   "metadata": {},
   "outputs": [
    {
     "data": {
      "text/html": [
       "<div>\n",
       "<style scoped>\n",
       "    .dataframe tbody tr th:only-of-type {\n",
       "        vertical-align: middle;\n",
       "    }\n",
       "\n",
       "    .dataframe tbody tr th {\n",
       "        vertical-align: top;\n",
       "    }\n",
       "\n",
       "    .dataframe thead th {\n",
       "        text-align: right;\n",
       "    }\n",
       "</style>\n",
       "<table border=\"1\" class=\"dataframe\">\n",
       "  <thead>\n",
       "    <tr style=\"text-align: right;\">\n",
       "      <th></th>\n",
       "      <th>Weight</th>\n",
       "      <th>Length</th>\n",
       "    </tr>\n",
       "  </thead>\n",
       "  <tbody>\n",
       "    <tr>\n",
       "      <th>0</th>\n",
       "      <td>21.8</td>\n",
       "      <td>17</td>\n",
       "    </tr>\n",
       "  </tbody>\n",
       "</table>\n",
       "</div>"
      ],
      "text/plain": [
       "   Weight  Length\n",
       "0    21.8      17"
      ]
     },
     "execution_count": 156,
     "metadata": {},
     "output_type": "execute_result"
    }
   ],
   "source": [
    "new_data"
   ]
  },
  {
   "cell_type": "code",
   "execution_count": 158,
   "id": "89761f79",
   "metadata": {},
   "outputs": [
    {
     "data": {
      "text/plain": [
       "array([48, 47, 45, 46, 44], dtype=int64)"
      ]
     },
     "execution_count": 158,
     "metadata": {},
     "output_type": "execute_result"
    }
   ],
   "source": [
    "y.flatten()"
   ]
  },
  {
   "cell_type": "code",
   "execution_count": 159,
   "id": "31f36ff8",
   "metadata": {},
   "outputs": [
    {
     "data": {
      "text/plain": [
       "array([[48, 47, 45, 46, 44]], dtype=int64)"
      ]
     },
     "execution_count": 159,
     "metadata": {},
     "output_type": "execute_result"
    }
   ],
   "source": [
    "y"
   ]
  },
  {
   "cell_type": "code",
   "execution_count": null,
   "id": "84a33867",
   "metadata": {},
   "outputs": [],
   "source": []
  }
 ],
 "metadata": {
  "kernelspec": {
   "display_name": "Python 3",
   "language": "python",
   "name": "python3"
  },
  "language_info": {
   "codemirror_mode": {
    "name": "ipython",
    "version": 3
   },
   "file_extension": ".py",
   "mimetype": "text/x-python",
   "name": "python",
   "nbconvert_exporter": "python",
   "pygments_lexer": "ipython3",
   "version": "3.9.18"
  }
 },
 "nbformat": 4,
 "nbformat_minor": 5
}
