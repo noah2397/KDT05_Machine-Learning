{
 "cells": [
  {
   "cell_type": "code",
   "execution_count": 1759,
   "metadata": {},
   "outputs": [],
   "source": [
    "# 1. 기계학습 프로세스 : 주어진 데이터에 대한 보상이나 정답, 라벨 등등을 주어 \"특정한 패턴이나 규칙\"을 기반으로 분류/예측 기반 해주는 프로세스"
   ]
  },
  {
   "cell_type": "code",
   "execution_count": 1760,
   "metadata": {},
   "outputs": [],
   "source": [
    "# 2. 기계학습에 사용되는 데이터셋 : 훈련용 데이터셋(30%), 검증용 데이터셋(30%), 테스트용 데이터셋(40%)으로 구성되어 있고, 각각의 설명은 다음과 같다\n",
    "# 훈련용 : 기계학습을 시키는 데 필요한 훈련 데이터\n",
    "# 검증용 : 훈련을 시키면서 몇몇 파라미터를 조정하거나 임시점검 용도의 데이터\n",
    "# 테스트용 : 훈련을 마친 후 성능을 측정하는 데이터"
   ]
  },
  {
   "cell_type": "code",
   "execution_count": 1761,
   "metadata": {},
   "outputs": [],
   "source": [
    "# 3. 지도학습의 특징 : 강화 학습과 비지도 학습과는 달리,\n",
    "# feature데이터에 대한 label데이터가 있다는 것이 큰 특징이다\n",
    "# 즉, 훈련 데이터에 대한 정답을 사용자 측에서 제공해준다"
   ]
  },
  {
   "cell_type": "code",
   "execution_count": 1762,
   "metadata": {},
   "outputs": [],
   "source": [
    "# 4. 데이터 전처리 중 처음 데이터 수집 후 데이터 정제하는 과정에 진행되는 작업 :\n",
    "# 1. 이상값 처리\n",
    "# 2. 중복값 처리\n",
    "# 3. 결측값 처리\n",
    "# 4. 다중공산성을 처리하는 변수 제거\n",
    "# 5. z_score기반 제거\n",
    "# 6. 데이터 표준화\n",
    "# 7. 기존 열을 갖고 열 추가하기 등등이 있다!"
   ]
  },
  {
   "cell_type": "code",
   "execution_count": 1763,
   "metadata": {},
   "outputs": [],
   "source": [
    "# 5. 모델 개념 : feature와 target데이터에 대하여 학습을 진행하기 위한 일종의 수식이라고 생각할 수 있다\n",
    "# 모델의 종류는 이웃개념과, 회귀 개념, 분류 개념 등과 같같이 각각의 알고리즘으로 구성되어 있으므로,\n",
    "# 한마디로, \"제각각의 알고리즘을 갖고 있는 함수\"라고 할 수 있겠다"
   ]
  },
  {
   "cell_type": "code",
   "execution_count": 1764,
   "metadata": {},
   "outputs": [],
   "source": [
    "# 6. 모델의 결과 값이 수치를 예측해주는 기계학습은 무엇인가요?\n",
    "# => 회귀모델(Regression model)이다"
   ]
  },
  {
   "cell_type": "code",
   "execution_count": 1765,
   "metadata": {},
   "outputs": [],
   "source": [
    "# 7. 모델 파라미터는 무엇인가요? : \n",
    "# 9번의 하이퍼 파라미터와의 차이점을 크게 모르겠다\n",
    "# => 해당 모델에서 제공하는 옵션값들을 말한다"
   ]
  },
  {
   "cell_type": "code",
   "execution_count": 1766,
   "metadata": {},
   "outputs": [],
   "source": [
    "# 8. KNN 알고리즘에 대해 설명해주세요 : \n",
    "# 이미 분류가 된 군집이 있다고 하면, 만약에 K의 수가 5일 때, 임의의 데이터에 대하여 최근접 5개의 노드를 찾은 후, 다수결의 원리에 따라 제일 많은 군집의 편으로 분류하는 알고리즘을 말한다"
   ]
  },
  {
   "cell_type": "code",
   "execution_count": 1767,
   "metadata": {},
   "outputs": [],
   "source": [
    "# 9. 하이퍼 파라미터는 무엇인가요?\n",
    "# 모르겠습니다"
   ]
  },
  {
   "cell_type": "code",
   "execution_count": 1768,
   "metadata": {},
   "outputs": [],
   "source": [
    "# 10. Regression의 성능평가 지표들을 설명하세요\n",
    "# 1. R2 : 정확도\n",
    "# 2. RMSE : 오차 제곱합(루트 씌운 버전)\n",
    "# 3. MSE : 오차 제곱합 (루트 안씌운 버전)\n",
    "# 4. MAE : 오차 절댓값 합"
   ]
  },
  {
   "cell_type": "code",
   "execution_count": 1769,
   "metadata": {},
   "outputs": [],
   "source": [
    "# 11. LinearRegression 알고리즘에 대해 설명해주세요 :\n",
    "# 특정 피처들 A,B가 있다고 하고, 타겟인 데이터 y가 있다고 하면,\n",
    "# y=Ax1+Bx2 와 같이 x1,x2를 찾는 알고리즘이라고 생각할 수 있다\n",
    "# 즉, 피터가 이차항 관련 컬럼이라면 직선 말고도 이차함수의 계수를 주듯이 회귀분석할 수 있다!"
   ]
  },
  {
   "cell_type": "code",
   "execution_count": 1770,
   "metadata": {},
   "outputs": [],
   "source": [
    "# 12. Classification의 성능평가 지표들을 설명하세요\n",
    "# 1.f1_score : precisioni과 recall을 결합한 지표값으로, 예측도와 정확도 둘 다를 나타낸다 \n",
    "# 2.accuracy_score : 정확도를 나타낸다\n",
    "# 3.recall_score : 예측도를 나타낸다\n",
    "# 4.precision_score : 정확도를 나타낸다 \n",
    "# 5. confusion_matrix : TP/FP/TN/FN 으로 요약된 n by n 행렬을 보여준다 \n",
    "# 6. classification_report : 분류지표의 총 요약본을 보여준다 "
   ]
  },
  {
   "cell_type": "code",
   "execution_count": 1771,
   "metadata": {},
   "outputs": [],
   "source": [
    "# 13. 피쳐공학에 대해 설명하시오\n",
    "# 피쳐공학이란, 피처의 특성의 산포도/특성/데이터형 등을 보면서 의미있는 피쳐를 생산하는 일련의 활동을 일컫는다 "
   ]
  },
  {
   "cell_type": "code",
   "execution_count": 1772,
   "metadata": {},
   "outputs": [],
   "source": [
    "# 14. LogisiticRegression알고리즘에 대해 설명해주세요\n",
    "# 시그모이드 같은 일정 임계치 이상값에 다다르면 특정 값을 뽑아내는 기술 함수를 사용하여 \n",
    "# 회귀를 진행하는 알고리즘이다"
   ]
  },
  {
   "cell_type": "code",
   "execution_count": 1773,
   "metadata": {},
   "outputs": [],
   "source": [
    "# 15. 과대적합/과소적합에 대해 설명해주세요\n",
    "# 과대적합 : 훈련 데이터셋에 너무 fitting을 해버려서, 오히려 새로 들어오면 테스트 데이터에는 성능을 내지 못하는 현상을 뜻한다\n",
    "#           보통 훈련 데이터셋의 성적 퍼센테이지가 테스트 데이터셋의 성적 퍼센테이지보다 \"높다\"\n",
    "# 과소적합 : 훈련 데이터셋에 너무 fitting하지 않아서, 오히려 테스트셋보다 훈련 데이터셋의 정확도가 낮은 현상을 말한다\n",
    "#            보통 낮은 훈련 데이터셋의 성적 퍼센테이지가 이를 대표한다 "
   ]
  },
  {
   "cell_type": "code",
   "execution_count": 1774,
   "metadata": {},
   "outputs": [],
   "source": [
    "# 16. 아래 데이터셋을 기반으로 분류/회귀 모델을 완성 후 성능평가까지 구현하세요\n",
    "import pandas as pd\n",
    "import numpy as np\n",
    "import matplotlib.pyplot as plt\n",
    "import koreanize_matplotlib\n",
    "from sklearn.model_selection import train_test_split\n",
    "from sklearn.metrics import accuracy_score, f1_score, precision_score, recall_score, confusion_matrix, classification_report\n",
    "from sklearn.preprocessing import StandardScaler\n",
    "from sklearn.neighbors import KNeighborsClassifier\n",
    "from sklearn.linear_model import LinearRegression\n",
    "\n",
    "df=pd.read_csv('iris.csv', names=[\"1\",\"2\",\"3\",\"4\",\"Species\"])"
   ]
  },
  {
   "cell_type": "code",
   "execution_count": 1775,
   "metadata": {},
   "outputs": [
    {
     "data": {
      "text/plain": [
       "array(['Iris-setosa', 'Iris-versicolor', 'Iris-virginica'], dtype=object)"
      ]
     },
     "execution_count": 1775,
     "metadata": {},
     "output_type": "execute_result"
    }
   ],
   "source": [
    "df.Species.unique() # Iris-setosa, Iris-versicolor 사용"
   ]
  },
  {
   "cell_type": "code",
   "execution_count": 1776,
   "metadata": {},
   "outputs": [],
   "source": [
    "# sepal_length, sepal_width, petal_length, petal_width\n",
    "\n",
    "df=df[df[\"Species\"].isin([\"Iris-setosa\",\"Iris-versicolor\"])]"
   ]
  },
  {
   "cell_type": "code",
   "execution_count": 1777,
   "metadata": {},
   "outputs": [],
   "source": [
    "feature=df[df.columns[:-1]]\n",
    "target=df[df.columns[-1]]"
   ]
  },
  {
   "cell_type": "code",
   "execution_count": 1778,
   "metadata": {},
   "outputs": [],
   "source": [
    "x_train, x_test,y_train,y_test=train_test_split(feature,target,test_size=0.3,random_state=42, stratify=target)"
   ]
  },
  {
   "cell_type": "code",
   "execution_count": 1779,
   "metadata": {},
   "outputs": [
    {
     "data": {
      "text/plain": [
       "1.0"
      ]
     },
     "execution_count": 1779,
     "metadata": {},
     "output_type": "execute_result"
    }
   ],
   "source": [
    "model=KNeighborsClassifier() # 분류 모델 완성 \n",
    "model.fit(x_train,y_train)\n",
    "model.score(x_test,y_test)"
   ]
  },
  {
   "cell_type": "code",
   "execution_count": 1780,
   "metadata": {},
   "outputs": [
    {
     "data": {
      "text/plain": [
       "array(['Iris-setosa', 'Iris-setosa', 'Iris-versicolor', 'Iris-setosa',\n",
       "       'Iris-setosa', 'Iris-versicolor', 'Iris-versicolor',\n",
       "       'Iris-versicolor', 'Iris-versicolor', 'Iris-setosa',\n",
       "       'Iris-versicolor', 'Iris-versicolor', 'Iris-setosa', 'Iris-setosa',\n",
       "       'Iris-versicolor', 'Iris-versicolor', 'Iris-setosa', 'Iris-setosa',\n",
       "       'Iris-versicolor', 'Iris-setosa', 'Iris-setosa', 'Iris-setosa',\n",
       "       'Iris-versicolor', 'Iris-versicolor', 'Iris-setosa', 'Iris-setosa',\n",
       "       'Iris-versicolor', 'Iris-versicolor', 'Iris-versicolor',\n",
       "       'Iris-setosa'], dtype=object)"
      ]
     },
     "execution_count": 1780,
     "metadata": {},
     "output_type": "execute_result"
    }
   ],
   "source": [
    "yre=model.predict(x_test)\n",
    "yre"
   ]
  },
  {
   "cell_type": "code",
   "execution_count": 1781,
   "metadata": {},
   "outputs": [],
   "source": [
    "# 분류 : 3개 품종 중, setosa와 versicolor를 선택하여 이진 분류를 했을 때, 별다른 튜닝 과정 없이 완벽하게 분류가 되었음을 확인할 수 있다 !"
   ]
  },
  {
   "cell_type": "code",
   "execution_count": 1782,
   "metadata": {},
   "outputs": [],
   "source": [
    "df=pd.read_csv('iris.csv', names=[\"1\",\"2\",\"3\",\"4\",\"Species\"])\n",
    "df=df[df[\"Species\"].isin([\"Iris-virginica\"])].reset_index(drop=True)"
   ]
  },
  {
   "cell_type": "code",
   "execution_count": 1783,
   "metadata": {},
   "outputs": [
    {
     "data": {
      "text/plain": [
       "1    1.000000\n",
       "2    0.457228\n",
       "3    0.864225\n",
       "4    0.281108\n",
       "Name: 1, dtype: float64"
      ]
     },
     "execution_count": 1783,
     "metadata": {},
     "output_type": "execute_result"
    }
   ],
   "source": [
    "df[df.columns[:-1]].corr()[\"1\"]"
   ]
  },
  {
   "cell_type": "code",
   "execution_count": 1784,
   "metadata": {},
   "outputs": [
    {
     "data": {
      "text/html": [
       "<div>\n",
       "<style scoped>\n",
       "    .dataframe tbody tr th:only-of-type {\n",
       "        vertical-align: middle;\n",
       "    }\n",
       "\n",
       "    .dataframe tbody tr th {\n",
       "        vertical-align: top;\n",
       "    }\n",
       "\n",
       "    .dataframe thead th {\n",
       "        text-align: right;\n",
       "    }\n",
       "</style>\n",
       "<table border=\"1\" class=\"dataframe\">\n",
       "  <thead>\n",
       "    <tr style=\"text-align: right;\">\n",
       "      <th></th>\n",
       "      <th>1</th>\n",
       "      <th>2</th>\n",
       "      <th>3</th>\n",
       "      <th>4</th>\n",
       "    </tr>\n",
       "  </thead>\n",
       "  <tbody>\n",
       "    <tr>\n",
       "      <th>0</th>\n",
       "      <td>5.1</td>\n",
       "      <td>3.5</td>\n",
       "      <td>1.4</td>\n",
       "      <td>0.2</td>\n",
       "    </tr>\n",
       "    <tr>\n",
       "      <th>1</th>\n",
       "      <td>4.9</td>\n",
       "      <td>3.0</td>\n",
       "      <td>1.4</td>\n",
       "      <td>0.2</td>\n",
       "    </tr>\n",
       "    <tr>\n",
       "      <th>2</th>\n",
       "      <td>4.7</td>\n",
       "      <td>3.2</td>\n",
       "      <td>1.3</td>\n",
       "      <td>0.2</td>\n",
       "    </tr>\n",
       "    <tr>\n",
       "      <th>3</th>\n",
       "      <td>4.6</td>\n",
       "      <td>3.1</td>\n",
       "      <td>1.5</td>\n",
       "      <td>0.2</td>\n",
       "    </tr>\n",
       "    <tr>\n",
       "      <th>4</th>\n",
       "      <td>5.0</td>\n",
       "      <td>3.6</td>\n",
       "      <td>1.4</td>\n",
       "      <td>0.2</td>\n",
       "    </tr>\n",
       "    <tr>\n",
       "      <th>...</th>\n",
       "      <td>...</td>\n",
       "      <td>...</td>\n",
       "      <td>...</td>\n",
       "      <td>...</td>\n",
       "    </tr>\n",
       "    <tr>\n",
       "      <th>95</th>\n",
       "      <td>5.7</td>\n",
       "      <td>3.0</td>\n",
       "      <td>4.2</td>\n",
       "      <td>1.2</td>\n",
       "    </tr>\n",
       "    <tr>\n",
       "      <th>96</th>\n",
       "      <td>5.7</td>\n",
       "      <td>2.9</td>\n",
       "      <td>4.2</td>\n",
       "      <td>1.3</td>\n",
       "    </tr>\n",
       "    <tr>\n",
       "      <th>97</th>\n",
       "      <td>6.2</td>\n",
       "      <td>2.9</td>\n",
       "      <td>4.3</td>\n",
       "      <td>1.3</td>\n",
       "    </tr>\n",
       "    <tr>\n",
       "      <th>98</th>\n",
       "      <td>5.1</td>\n",
       "      <td>2.5</td>\n",
       "      <td>3.0</td>\n",
       "      <td>1.1</td>\n",
       "    </tr>\n",
       "    <tr>\n",
       "      <th>99</th>\n",
       "      <td>5.7</td>\n",
       "      <td>2.8</td>\n",
       "      <td>4.1</td>\n",
       "      <td>1.3</td>\n",
       "    </tr>\n",
       "  </tbody>\n",
       "</table>\n",
       "<p>100 rows × 4 columns</p>\n",
       "</div>"
      ],
      "text/plain": [
       "      1    2    3    4\n",
       "0   5.1  3.5  1.4  0.2\n",
       "1   4.9  3.0  1.4  0.2\n",
       "2   4.7  3.2  1.3  0.2\n",
       "3   4.6  3.1  1.5  0.2\n",
       "4   5.0  3.6  1.4  0.2\n",
       "..  ...  ...  ...  ...\n",
       "95  5.7  3.0  4.2  1.2\n",
       "96  5.7  2.9  4.2  1.3\n",
       "97  6.2  2.9  4.3  1.3\n",
       "98  5.1  2.5  3.0  1.1\n",
       "99  5.7  2.8  4.1  1.3\n",
       "\n",
       "[100 rows x 4 columns]"
      ]
     },
     "execution_count": 1784,
     "metadata": {},
     "output_type": "execute_result"
    }
   ],
   "source": [
    "feature"
   ]
  },
  {
   "cell_type": "code",
   "execution_count": 1785,
   "metadata": {},
   "outputs": [
    {
     "name": "stderr",
     "output_type": "stream",
     "text": [
      "C:\\Users\\mathn\\AppData\\Local\\Temp\\ipykernel_24212\\4059760293.py:5: SettingWithCopyWarning: \n",
      "A value is trying to be set on a copy of a slice from a DataFrame\n",
      "\n",
      "See the caveats in the documentation: https://pandas.pydata.org/pandas-docs/stable/user_guide/indexing.html#returning-a-view-versus-a-copy\n",
      "  feature.drop(index[1:],axis=0,inplace=True)\n"
     ]
    },
    {
     "name": "stdout",
     "output_type": "stream",
     "text": [
      "이때까지의 최고 정확률 : 0.5348781785922725\n",
      "이때까지의 최고 정확률 : 0.6264945659552531\n",
      "이때까지의 최고 정확률 : 0.6649524676251471\n",
      "이때까지의 최고 정확률 : 0.6922976008598556\n",
      "이때까지의 최고 정확률 : 0.72378614401741\n",
      "이때까지의 최고 정확률 : 0.7510924602895745\n",
      "이때까지의 최고 정확률 : 0.7880705582406159\n",
      "이때까지의 최고 정확률 : 0.7889961243717953\n",
      "이때까지의 최고 정확률 : 0.803537260174985\n",
      "이때까지의 최고 정확률 : 0.8221729858275315\n",
      "이때까지의 최고 정확률 : 0.8465152002717237\n",
      "이때까지의 최고 정확률 : 0.8487422428193325\n",
      "이때까지의 최고 정확률 : 0.8491292000961294\n",
      "이때까지의 최고 정확률 : 0.8506907742338912\n",
      "이때까지의 최고 정확률 : 0.8509480904452128\n",
      "이때까지의 최고 정확률 : 0.8520749064187617\n",
      "이때까지의 최고 정확률 : 0.8718220356544082\n"
     ]
    }
   ],
   "source": [
    "feature=df[df.columns[1:3]]\n",
    "target=df[df.columns[0]]\n",
    "import scipy.stats as stats\n",
    "index,_=np.where(np.abs(stats.zscore(feature))>2)\n",
    "feature.drop(index[1:],axis=0,inplace=True)\n",
    "target.drop(index[1:],axis=0,inplace=True)\n",
    "\n",
    "max=0\n",
    "for i in range(1,10000):\n",
    "    x_train, x_test,y_train,y_test=train_test_split(feature,target,test_size=0.3,random_state=i)\n",
    "    model=LinearRegression() # 회귀 모델 완성\n",
    "    model.fit(x_train,y_train)\n",
    "    if max < model.score(x_test,y_test):\n",
    "        max=model.score(x_test,y_test)\n",
    "        print(f\"이때까지의 최고 정확률 : {max}\")"
   ]
  },
  {
   "cell_type": "code",
   "execution_count": 1786,
   "metadata": {},
   "outputs": [],
   "source": [
    "# 선형회귀로 모델을 통해 분석했을 때, 정확률이 87.1% 가 나온다"
   ]
  },
  {
   "cell_type": "code",
   "execution_count": 1787,
   "metadata": {},
   "outputs": [
    {
     "data": {
      "text/plain": [
       "array([7.16942298, 6.94764937, 6.41342045, 6.72587576, 6.94903796,\n",
       "       6.91557068, 6.72726434, 7.01319532, 7.23219176, 6.00056332,\n",
       "       5.78156688, 6.00195191, 5.81225698, 6.28510571])"
      ]
     },
     "execution_count": 1787,
     "metadata": {},
     "output_type": "execute_result"
    }
   ],
   "source": [
    "yre=model.predict(x_test)\n",
    "yre"
   ]
  },
  {
   "cell_type": "code",
   "execution_count": null,
   "metadata": {},
   "outputs": [],
   "source": []
  }
 ],
 "metadata": {
  "kernelspec": {
   "display_name": "EXAM_ML",
   "language": "python",
   "name": "python3"
  },
  "language_info": {
   "codemirror_mode": {
    "name": "ipython",
    "version": 3
   },
   "file_extension": ".py",
   "mimetype": "text/x-python",
   "name": "python",
   "nbconvert_exporter": "python",
   "pygments_lexer": "ipython3",
   "version": "3.9.18"
  }
 },
 "nbformat": 4,
 "nbformat_minor": 2
}
