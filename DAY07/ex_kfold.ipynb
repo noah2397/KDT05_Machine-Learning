{
 "cells": [
  {
   "cell_type": "code",
   "execution_count": 199,
   "metadata": {},
   "outputs": [],
   "source": [
    "# 교차 검증\n",
    "# 부족한 데이터 셋 및 특성 데이터에 과대적합되는 문제를 해결하기 위한 방안\n",
    "# 학습 데이터셋을 일정 크기의 데이터로 n개 분리 후 1/n은 검증용, 나머지는 학습용으로 사용"
   ]
  },
  {
   "cell_type": "code",
   "execution_count": 200,
   "metadata": {},
   "outputs": [],
   "source": [
    "import numpy as np\n",
    "import pandas as pd\n",
    "from sklearn.model_selection import KFold\n",
    "\n",
    "perchDF=pd.read_csv(\"perch3.csv\")"
   ]
  },
  {
   "cell_type": "code",
   "execution_count": 201,
   "metadata": {},
   "outputs": [
    {
     "name": "stdout",
     "output_type": "stream",
     "text": [
      "0\n",
      "(37,) (19,)\n",
      "1\n",
      "(37,) (19,)\n",
      "2\n",
      "(38,) (18,)\n"
     ]
    }
   ],
   "source": [
    "fold_5=KFold(3)\n",
    "for index, (train_index, test_index) in enumerate(fold_5.split(perchDF)):\n",
    "    print(index)\n",
    "    print(train_index.shape, test_index.shape)"
   ]
  },
  {
   "cell_type": "code",
   "execution_count": 202,
   "metadata": {},
   "outputs": [
    {
     "data": {
      "text/html": [
       "<div>\n",
       "<style scoped>\n",
       "    .dataframe tbody tr th:only-of-type {\n",
       "        vertical-align: middle;\n",
       "    }\n",
       "\n",
       "    .dataframe tbody tr th {\n",
       "        vertical-align: top;\n",
       "    }\n",
       "\n",
       "    .dataframe thead th {\n",
       "        text-align: right;\n",
       "    }\n",
       "</style>\n",
       "<table border=\"1\" class=\"dataframe\">\n",
       "  <thead>\n",
       "    <tr style=\"text-align: right;\">\n",
       "      <th></th>\n",
       "      <th>0</th>\n",
       "      <th>1</th>\n",
       "      <th>2</th>\n",
       "      <th>3</th>\n",
       "      <th>4</th>\n",
       "    </tr>\n",
       "  </thead>\n",
       "  <tbody>\n",
       "    <tr>\n",
       "      <th>Iris-setosa</th>\n",
       "      <td>41</td>\n",
       "      <td>42</td>\n",
       "      <td>42</td>\n",
       "      <td>43</td>\n",
       "      <td>43</td>\n",
       "    </tr>\n",
       "    <tr>\n",
       "      <th>Iris-versicolor</th>\n",
       "      <td>41</td>\n",
       "      <td>40</td>\n",
       "      <td>40</td>\n",
       "      <td>43</td>\n",
       "      <td>39</td>\n",
       "    </tr>\n",
       "    <tr>\n",
       "      <th>Iris-virginica</th>\n",
       "      <td>38</td>\n",
       "      <td>38</td>\n",
       "      <td>38</td>\n",
       "      <td>34</td>\n",
       "      <td>38</td>\n",
       "    </tr>\n",
       "  </tbody>\n",
       "</table>\n",
       "</div>"
      ],
      "text/plain": [
       "                  0   1   2   3   4\n",
       "Iris-setosa      41  42  42  43  43\n",
       "Iris-versicolor  41  40  40  43  39\n",
       "Iris-virginica   38  38  38  34  38"
      ]
     },
     "execution_count": 202,
     "metadata": {},
     "output_type": "execute_result"
    }
   ],
   "source": [
    "# 타겟이 분류인 경우 \n",
    "\n",
    "df=pd.read_csv(\"../data/iris.csv\", names=[\"sepal_length\",\"sepal_width\",\"petal_length\",\"petal_width\",\"Species\"])\n",
    "k_fold=KFold(n_splits=5, shuffle=True)\n",
    "ret=k_fold.split(df[\"Species\"])\n",
    "train_data=[]\n",
    "test_data=[]\n",
    "for train_index, test_index in ret:\n",
    "    train_data.append(df[[\"Species\"]].iloc[train_index])\n",
    "    test_data.append(df[[\"Species\"]].iloc[test_index])\n",
    "data=[]\n",
    "for i in range(len(train_data)):\n",
    "    data.append(train_data[i].value_counts().values)\n",
    "ratio=pd.DataFrame(np.array(data).T, index=df.Species.unique())\n",
    "ratio"
   ]
  },
  {
   "cell_type": "code",
   "execution_count": 203,
   "metadata": {},
   "outputs": [
    {
     "data": {
      "text/html": [
       "<div>\n",
       "<style scoped>\n",
       "    .dataframe tbody tr th:only-of-type {\n",
       "        vertical-align: middle;\n",
       "    }\n",
       "\n",
       "    .dataframe tbody tr th {\n",
       "        vertical-align: top;\n",
       "    }\n",
       "\n",
       "    .dataframe thead th {\n",
       "        text-align: right;\n",
       "    }\n",
       "</style>\n",
       "<table border=\"1\" class=\"dataframe\">\n",
       "  <thead>\n",
       "    <tr style=\"text-align: right;\">\n",
       "      <th></th>\n",
       "      <th>0</th>\n",
       "      <th>1</th>\n",
       "      <th>2</th>\n",
       "      <th>3</th>\n",
       "      <th>4</th>\n",
       "    </tr>\n",
       "  </thead>\n",
       "  <tbody>\n",
       "    <tr>\n",
       "      <th>Iris-setosa</th>\n",
       "      <td>40</td>\n",
       "      <td>40</td>\n",
       "      <td>40</td>\n",
       "      <td>40</td>\n",
       "      <td>40</td>\n",
       "    </tr>\n",
       "    <tr>\n",
       "      <th>Iris-versicolor</th>\n",
       "      <td>40</td>\n",
       "      <td>40</td>\n",
       "      <td>40</td>\n",
       "      <td>40</td>\n",
       "      <td>40</td>\n",
       "    </tr>\n",
       "    <tr>\n",
       "      <th>Iris-virginica</th>\n",
       "      <td>40</td>\n",
       "      <td>40</td>\n",
       "      <td>40</td>\n",
       "      <td>40</td>\n",
       "      <td>40</td>\n",
       "    </tr>\n",
       "  </tbody>\n",
       "</table>\n",
       "</div>"
      ],
      "text/plain": [
       "                  0   1   2   3   4\n",
       "Iris-setosa      40  40  40  40  40\n",
       "Iris-versicolor  40  40  40  40  40\n",
       "Iris-virginica   40  40  40  40  40"
      ]
     },
     "execution_count": 203,
     "metadata": {},
     "output_type": "execute_result"
    }
   ],
   "source": [
    "from sklearn.model_selection import StratifiedKFold\n",
    "from sklearn.preprocessing import LabelEncoder\n",
    "\n",
    "le=LabelEncoder()\n",
    "y=le.fit_transform(df.Species)\n",
    "k_fold=StratifiedKFold(n_splits=5)\n",
    "\n",
    "ret=k_fold.split(df[\"Species\"],y)\n",
    "train_data=[]\n",
    "test_data=[]\n",
    "for train_index, test_index in ret:\n",
    "    train_data.append(df[[\"Species\"]].iloc[train_index])\n",
    "    test_data.append(df[[\"Species\"]].iloc[test_index])\n",
    "data=[]\n",
    "for i in range(len(train_data)):\n",
    "    data.append(train_data[i].value_counts().values)\n",
    "ratio=pd.DataFrame(np.array(data).T, index=df.Species.unique())\n",
    "ratio"
   ]
  },
  {
   "cell_type": "code",
   "execution_count": 204,
   "metadata": {},
   "outputs": [
    {
     "name": "stdout",
     "output_type": "stream",
     "text": [
      "0.9755254424778761 0.966394025604552\n"
     ]
    }
   ],
   "source": [
    "from sklearn.linear_model import LogisticRegression\n",
    "\n",
    "df=pd.read_csv(\"../data/iris.csv\", names=[\"sepal_length\",\"sepal_width\",\"petal_length\",\"petal_width\",\"Species\"])\n",
    "\n",
    "k_fold=KFold(n_splits=4, shuffle=True, random_state=123) # KFold 객체 생성\n",
    "train_score_list=[] # 각 분할된 데이터의 훈련성적\n",
    "test_score_list=[] # 각 분할된 데이터의 테스트성적\n",
    "for idx, (train, test) in enumerate(k_fold.split(df[\"Species\"])) :\n",
    "    \n",
    "    # 0. 학습용, 테스트용 인덱스 반환\n",
    "    train_idx=train.tolist()\n",
    "    test_idx=test.tolist()\n",
    "    \n",
    "    # 1. 인덱스에 해당하는 데이터 셋 추출\n",
    "    trainDF=df.iloc[train_idx]\n",
    "    testDF=df.iloc[test_idx]\n",
    "    if False : \n",
    "        print(trainDF.Species.value_counts()/trainDF.shape[0])\n",
    "        print(testDF.Species.value_counts()/testDF.shape[0])\n",
    "    \n",
    "    # 2. 분류 모델 학습\n",
    "    x_train=trainDF[trainDF.columns[:-1]]\n",
    "    y_train=trainDF[trainDF.columns[-1]]\n",
    "    x_test=testDF[testDF.columns[:-1]]\n",
    "    y_test=testDF[testDF.columns[-1]]\n",
    "    \n",
    "    log_model=LogisticRegression(max_iter=10000)\n",
    "    log_model.fit(x_train, y_train)\n",
    "    \n",
    "    # 3. 훈련 및 검증용\n",
    "    train_score=log_model.score(x_train, y_train)\n",
    "    test_score=log_model.score(x_test, y_test)\n",
    "    train_score_list.append(train_score)\n",
    "    test_score_list.append(test_score)\n",
    "    \n",
    "# 각 데이터 셋들의 성적들을 평균화함 \n",
    "print(np.mean(train_score_list), np.mean(test_score_list))"
   ]
  }
 ],
 "metadata": {
  "kernelspec": {
   "display_name": "EXAM_ML",
   "language": "python",
   "name": "python3"
  },
  "language_info": {
   "codemirror_mode": {
    "name": "ipython",
    "version": 3
   },
   "file_extension": ".py",
   "mimetype": "text/x-python",
   "name": "python",
   "nbconvert_exporter": "python",
   "pygments_lexer": "ipython3",
   "version": "3.9.18"
  }
 },
 "nbformat": 4,
 "nbformat_minor": 2
}
