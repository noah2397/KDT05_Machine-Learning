{
 "cells": [
  {
   "cell_type": "code",
   "execution_count": 2,
   "metadata": {},
   "outputs": [],
   "source": [
    "import pandas as pd\n",
    "import matplotlib.pyplot as plt\n",
    "from sklearn.neighbors import KNeighborsClassifier\n",
    "from sklearn.model_selection import train_test_split\n",
    "from sklearn.preprocessing import StandardScaler\n",
    "import koreanize_matplotlib\n",
    "# 추가과제 \n",
    "# 모든 설명변수를 feature로 할당하고, 그 정확도를 예측 \n",
    "df=pd.read_csv(\"./winequality-white.csv\", delimiter=\";\")"
   ]
  },
  {
   "cell_type": "code",
   "execution_count": 3,
   "metadata": {},
   "outputs": [],
   "source": [
    "# 중복값 제거 \n",
    "df=df[df.duplicated()==False].reset_index(drop=True)"
   ]
  },
  {
   "cell_type": "code",
   "execution_count": 5,
   "metadata": {},
   "outputs": [],
   "source": [
    "# quality를 제외한 모든 열을 설명변수로 잡는다\n",
    "\n",
    "feature=df[df.columns[0:-1]]\n",
    "target=df[df.columns[-1]]\n",
    "\n",
    "# 학습 데이터, 테스트 데이터 생성\n",
    "x_train, x_test, y_train, y_test = train_test_split(feature, target, test_size=0.2, stratify=target)"
   ]
  },
  {
   "cell_type": "code",
   "execution_count": 8,
   "metadata": {},
   "outputs": [],
   "source": [
    "scaler=StandardScaler()\n",
    "scaler.fit(x_train)\n",
    "scaled_x_train=scaler.transform(x_train)\n",
    "#============================================\n",
    "scaler.fit(x_test)\n",
    "scaler.mean_ # x_test의 평균을 출력 \n",
    "scaled_x_test=scaler.transform(x_test)"
   ]
  },
  {
   "cell_type": "code",
   "execution_count": 14,
   "metadata": {},
   "outputs": [
    {
     "data": {
      "image/png": "[encoded data removed]",
      "text/plain": [
       "<Figure size 640x480 with 1 Axes>"
      ]
     },
     "metadata": {},
     "output_type": "display_data"
    }
   ],
   "source": [
    "# 히스토그램 그리기\n",
    "plt.hist(df[\"quality\"], density=True, bins=range(3, 10), edgecolor='black')  # bins는 히스토그램의 막대 구간을 설정합니다.\n",
    "plt.title(\"와인 등급 히스토그램\")\n",
    "plt.ylabel(\"비율(%)\")\n",
    "plt.xlabel(\"와인 등급\")\n",
    "\n",
    "plt.show()"
   ]
  },
  {
   "cell_type": "code",
   "execution_count": 18,
   "metadata": {},
   "outputs": [],
   "source": [
    "# n_neighbors : k\n",
    "# weights : i\n",
    "# algorithm : j\n",
    "\n",
    "\n",
    "test_scoreList=dict()\n",
    "train_scoreList=dict()\n",
    "for k in range(1,150,10):\n",
    "    for i in [\"uniform\",\"distance\"]:\n",
    "        for j in ['auto', 'ball_tree', 'kd_tree', 'brute'] :\n",
    "            model=KNeighborsClassifier(n_neighbors=k)\n",
    "            model.fit(scaled_x_train, y_train)\n",
    "            test_scoreList.setdefault((k,i,j),model.score(scaled_x_test, y_test))\n",
    "            train_scoreList.setdefault((k,i,j),model.score(scaled_x_train,y_train))"
   ]
  },
  {
   "cell_type": "code",
   "execution_count": 25,
   "metadata": {},
   "outputs": [
    {
     "data": {
      "text/plain": [
       "((51, 'uniform', 'auto'), 0.5636822194199244)"
      ]
     },
     "execution_count": 25,
     "metadata": {},
     "output_type": "execute_result"
    }
   ],
   "source": [
    "max(test_scoreList, key=test_scoreList.get), max(test_scoreList.values())"
   ]
  },
  {
   "cell_type": "markdown",
   "metadata": {},
   "source": [
    "quality를 제외한 모든 가능한 설명변수를 반영함\n",
    "\n",
    "해당 조건으로 데이터를 정규화하고, \n",
    "KNN을 실행해 본 결과,\n",
    "\n",
    "n_neighbors(이웃의 개수) : 51개 일 때 최대\n",
    "weights(가중치 방식) : uniform 일 때 최대\n",
    "algorithm(알고리즘) : auto 일 때 최대\n"
   ]
  }
 ],
 "metadata": {
  "kernelspec": {
   "display_name": "EXAM_ML",
   "language": "python",
   "name": "python3"
  },
  "language_info": {
   "codemirror_mode": {
    "name": "ipython",
    "version": 3
   },
   "file_extension": ".py",
   "mimetype": "text/x-python",
   "name": "python",
   "nbconvert_exporter": "python",
   "pygments_lexer": "ipython3",
   "version": "3.9.18"
  }
 },
 "nbformat": 4,
 "nbformat_minor": 2
}
