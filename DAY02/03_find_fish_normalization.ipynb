{
 "cells": [
  {
   "cell_type": "code",
   "execution_count": 34,
   "metadata": {},
   "outputs": [],
   "source": [
    "import pandas as pd\n",
    "import matplotlib.pyplot as plt\n",
    "from sklearn.neighbors import KNeighborsClassifier\n",
    "from sklearn.model_selection import train_test_split\n",
    "\n",
    "df=pd.read_csv(\"../data/fish.csv\")"
   ]
  },
  {
   "cell_type": "code",
   "execution_count": 35,
   "metadata": {},
   "outputs": [],
   "source": [
    "df2 = df[df[\"Species\"].isin([\"Bream\",\"Smelt\"])][[\"Species\",\"Weight\",\"Length\"]]"
   ]
  },
  {
   "cell_type": "code",
   "execution_count": 36,
   "metadata": {},
   "outputs": [],
   "source": [
    "# 전처리 : 중복 제거 \n",
    "# 정규화 : (측정값-평균)/표준편차\n",
    "W_mean, L_mean = df2[\"Weight\"].mean(), df2[\"Length\"].mean()\n",
    "W_std, L_std = df2[\"Weight\"].std(), df2[\"Length\"].std()"
   ]
  },
  {
   "cell_type": "code",
   "execution_count": 37,
   "metadata": {},
   "outputs": [],
   "source": [
    "ret1=(df2.Weight-W_mean)/W_std\n",
    "ret2=(df2.Length-L_mean)/L_std"
   ]
  },
  {
   "cell_type": "code",
   "execution_count": 38,
   "metadata": {},
   "outputs": [],
   "source": [
    "df2.loc[:,\"Weight\"]=ret1\n",
    "df2.loc[:,\"Length\"]=ret2"
   ]
  },
  {
   "cell_type": "code",
   "execution_count": 40,
   "metadata": {},
   "outputs": [],
   "source": [
    "df2.loc[:,\"Species\"]=df2.loc[:,\"Species\"].map({\"Bream\":0,\"Smelt\":1})"
   ]
  },
  {
   "cell_type": "code",
   "execution_count": null,
   "metadata": {},
   "outputs": [],
   "source": [
    "# 하지만, 이건 bream과 smelt의 총평균을 구한 것이므로, 의미가 없다\n",
    "# 따로 평균을 구해서 각각 정규화를 할 필요성을 느낀다! "
   ]
  },
  {
   "cell_type": "code",
   "execution_count": null,
   "metadata": {},
   "outputs": [],
   "source": []
  },
  {
   "cell_type": "code",
   "execution_count": null,
   "metadata": {},
   "outputs": [],
   "source": []
  }
 ],
 "metadata": {
  "kernelspec": {
   "display_name": "EXAM_ML",
   "language": "python",
   "name": "python3"
  },
  "language_info": {
   "codemirror_mode": {
    "name": "ipython",
    "version": 3
   },
   "file_extension": ".py",
   "mimetype": "text/x-python",
   "name": "python",
   "nbconvert_exporter": "python",
   "pygments_lexer": "ipython3",
   "version": "3.9.18"
  }
 },
 "nbformat": 4,
 "nbformat_minor": 2
}
