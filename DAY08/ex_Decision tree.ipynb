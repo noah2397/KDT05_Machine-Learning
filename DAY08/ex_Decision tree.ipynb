{
 "cells": [
  {
   "cell_type": "code",
   "execution_count": 7,
   "metadata": {},
   "outputs": [],
   "source": [
    "import pandas as pd\n",
    "\n",
    "\n",
    "df=pd.read_csv(\"../DAY07/HousingData.csv\")"
   ]
  },
  {
   "cell_type": "code",
   "execution_count": 14,
   "metadata": {},
   "outputs": [
    {
     "data": {
      "text/plain": [
       "([<matplotlib.axis.XTick at 0x2541499c670>,\n",
       "  <matplotlib.axis.XTick at 0x2541499c640>,\n",
       "  <matplotlib.axis.XTick at 0x2541498fdf0>,\n",
       "  <matplotlib.axis.XTick at 0x254149b2cd0>,\n",
       "  <matplotlib.axis.XTick at 0x254149b6b20>,\n",
       "  <matplotlib.axis.XTick at 0x254149bb610>,\n",
       "  <matplotlib.axis.XTick at 0x254149b63a0>,\n",
       "  <matplotlib.axis.XTick at 0x254149bd2b0>,\n",
       "  <matplotlib.axis.XTick at 0x254149bdd60>,\n",
       "  <matplotlib.axis.XTick at 0x254149c2850>,\n",
       "  <matplotlib.axis.XTick at 0x254149c20d0>,\n",
       "  <matplotlib.axis.XTick at 0x254149ca220>,\n",
       "  <matplotlib.axis.XTick at 0x254149cacd0>],\n",
       " [Text(0, 0, 'CRIM'),\n",
       "  Text(1, 0, 'ZN'),\n",
       "  Text(2, 0, 'INDUS'),\n",
       "  Text(3, 0, 'CHAS'),\n",
       "  Text(4, 0, 'NOX'),\n",
       "  Text(5, 0, 'RM'),\n",
       "  Text(6, 0, 'AGE'),\n",
       "  Text(7, 0, 'DIS'),\n",
       "  Text(8, 0, 'RAD'),\n",
       "  Text(9, 0, 'TAX'),\n",
       "  Text(10, 0, 'PTRATIO'),\n",
       "  Text(11, 0, 'B'),\n",
       "  Text(12, 0, 'LSTAT')])"
      ]
     },
     "execution_count": 14,
     "metadata": {},
     "output_type": "execute_result"
    },
    {
     "data": {
      "image/png": "[encoded data removed]",
      "text/plain": [
       "<Figure size 640x480 with 1 Axes>"
      ]
     },
     "metadata": {},
     "output_type": "display_data"
    }
   ],
   "source": [
    "df=df.dropna()\n",
    "feature=df[df.columns[:-1]]\n",
    "target=df[df.columns[-1]]\n",
    "\n",
    "from sklearn.tree import DecisionTreeRegressor\n",
    "\n",
    "clf=DecisionTreeRegressor()\n",
    "clf.fit(feature,target)\n",
    "import matplotlib.pyplot as plt\n",
    "\n",
    "plt.scatter(range(13),clf.feature_importances_)\n",
    "plt.xticks(range(13),feature.columns)"
   ]
  },
  {
   "cell_type": "code",
   "execution_count": 10,
   "metadata": {},
   "outputs": [
    {
     "data": {
      "text/plain": [
       "13"
      ]
     },
     "execution_count": 10,
     "metadata": {},
     "output_type": "execute_result"
    }
   ],
   "source": [
    "len(feature.columns)"
   ]
  },
  {
   "cell_type": "code",
   "execution_count": 15,
   "metadata": {},
   "outputs": [
    {
     "data": {
      "text/plain": [
       "CRIM      -0.397230\n",
       "ZN         0.406822\n",
       "INDUS     -0.510829\n",
       "CHAS       0.173701\n",
       "NOX       -0.459054\n",
       "RM         0.723951\n",
       "AGE       -0.407470\n",
       "DIS        0.279547\n",
       "RAD       -0.416638\n",
       "TAX       -0.508864\n",
       "PTRATIO   -0.543809\n",
       "B          0.347256\n",
       "LSTAT     -0.743450\n",
       "MEDV       1.000000\n",
       "Name: MEDV, dtype: float64"
      ]
     },
     "execution_count": 15,
     "metadata": {},
     "output_type": "execute_result"
    }
   ],
   "source": [
    "df.corr()[\"MEDV\"]"
   ]
  },
  {
   "cell_type": "code",
   "execution_count": null,
   "metadata": {},
   "outputs": [],
   "source": []
  }
 ],
 "metadata": {
  "kernelspec": {
   "display_name": "EXAM_ML",
   "language": "python",
   "name": "python3"
  },
  "language_info": {
   "codemirror_mode": {
    "name": "ipython",
    "version": 3
   },
   "file_extension": ".py",
   "mimetype": "text/x-python",
   "name": "python",
   "nbconvert_exporter": "python",
   "pygments_lexer": "ipython3",
   "version": "3.9.18"
  }
 },
 "nbformat": 4,
 "nbformat_minor": 2
}
