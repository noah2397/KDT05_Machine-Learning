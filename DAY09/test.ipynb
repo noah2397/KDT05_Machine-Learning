{
 "cells": [
  {
   "cell_type": "code",
   "execution_count": 2,
   "metadata": {},
   "outputs": [
    {
     "name": "stdout",
     "output_type": "stream",
     "text": [
      "['Iris-setosa' 'Iris-versicolor' 'Iris-virginica']\n",
      "[10.0, 20.0, 30.0, 40.0]\n",
      "1.0\n",
      "해당 꽃은 100.0% ['Iris-virginica']입니다\n"
     ]
    }
   ],
   "source": [
    "from joblib import load\n",
    "\n",
    "# 전역 변수 \n",
    "model_file=\"../model/iris_dt.pkl\"\n",
    "\n",
    "# 모델 로딩\n",
    "model=load(model_file)\n",
    "\n",
    "# 로딩된 모델 확인\n",
    "print(model.classes_)\n",
    "\n",
    "# 붓꽃 정보 입력 => 4개 피쳐\n",
    "datas=input(\"붓꽃 정보 입력 (예: 꽃받침길이, 꽃받침너비, 꽃잎길이, 꽃잎너비): \")\n",
    "if len(datas) :\n",
    "    datas_list=list(map(float, datas.split(',')))\n",
    "    print(datas_list)\n",
    "    pre_iris=model.predict([datas_list])\n",
    "    proba=max(model.predict_proba([datas_list])[0])\n",
    "    print(proba)\n",
    "    print(f\"해당 꽃은 {proba*100}% {pre_iris}입니다\")\n",
    "else :\n",
    "    print(\"입력된 정보가 없습니다.\")"
   ]
  },
  {
   "cell_type": "code",
   "execution_count": null,
   "metadata": {},
   "outputs": [],
   "source": []
  }
 ],
 "metadata": {
  "kernelspec": {
   "display_name": "EXAM_ML",
   "language": "python",
   "name": "python3"
  },
  "language_info": {
   "codemirror_mode": {
    "name": "ipython",
    "version": 3
   },
   "file_extension": ".py",
   "mimetype": "text/x-python",
   "name": "python",
   "nbconvert_exporter": "python",
   "pygments_lexer": "ipython3",
   "version": "3.9.18"
  }
 },
 "nbformat": 4,
 "nbformat_minor": 2
}
