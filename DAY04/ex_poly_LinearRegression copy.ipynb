{
 "cells": [
  {
   "cell_type": "code",
   "execution_count": 11,
   "metadata": {},
   "outputs": [],
   "source": [
    "# 부족한 피쳐를 조합, 생성하여 모델 성능 향상\n",
    "\n",
    "# 특성공학 : 피쳐 추출/선택/생성\n",
    "# 비선형의 데이터에 대한 피쳐 생성 => 곡선형태의 회귀선 수식\n",
    "# sklearn.preprocessing내에 포함 \n",
    "# 데이터 : fish.csv \n",
    "# 피쳐 : Perch의 Height, Length, Width\n",
    "# 타켓 : Perch의 Weight\n",
    "# 학습유형 : 지도학습 "
   ]
  },
  {
   "cell_type": "code",
   "execution_count": 12,
   "metadata": {},
   "outputs": [],
   "source": [
    "from sklearn.preprocessing import PolynomialFeatures\n",
    "# #https://scikit-learn.org/stable/modules/generated/sklearn.preprocessing.PolynomialFeatures.html#sklearn.preprocessing.PolynomialFeatures\n",
    "\n",
    "# poly=PolynomialFeatures(include_bias=False, degree=5)\n",
    "# poly.fit([[2,3]])\n",
    "# poly.transform([[2,3]])\n",
    "# poly.get_features_names_out()"
   ]
  },
  {
   "cell_type": "code",
   "execution_count": 13,
   "metadata": {},
   "outputs": [
    {
     "data": {
      "text/plain": [
       "array(['x0', 'x1', 'x2', 'x0^2', 'x0 x1', 'x0 x2', 'x1^2', 'x1 x2',\n",
       "       'x2^2'], dtype=object)"
      ]
     },
     "execution_count": 13,
     "metadata": {},
     "output_type": "execute_result"
    }
   ],
   "source": [
    "poly = PolynomialFeatures(degree=2, include_bias=False)\n",
    "poly.fit_transform([[2,3,4]])\n",
    "poly.get_feature_names_out()"
   ]
  },
  {
   "cell_type": "code",
   "execution_count": 14,
   "metadata": {},
   "outputs": [
    {
     "data": {
      "text/plain": [
       "('x0', 'x1', 'x0^2', 'x0 x1', 'x1^2')"
      ]
     },
     "execution_count": 14,
     "metadata": {},
     "output_type": "execute_result"
    }
   ],
   "source": [
    " '1', 'x0', 'x1', 'x0^2', 'x0 x1', 'x1^2'       # interaction_only=False : 자기 자신의 제곱도 함\n",
    " '1', 'x0', 'x1', 'x0 x1'                       # interaction_only=True : ㄴㄴ 그냥 서로 꺼만 곱하고 치움\n",
    " 'x0', 'x1', 'x0^2', 'x0 x1', 'x1^2'            # interaction_only=False, include_bias=False : 1 빼버리기 "
   ]
  },
  {
   "cell_type": "code",
   "execution_count": 15,
   "metadata": {},
   "outputs": [],
   "source": [
    "import pandas as pd\n",
    "df=pd.read_csv(\"../data/fish.csv\")\n",
    "df.drop('Diagonal',axis='columns',inplace=True)"
   ]
  },
  {
   "cell_type": "code",
   "execution_count": 16,
   "metadata": {},
   "outputs": [],
   "source": [
    "df=df[df[\"Species\"]==\"Perch\"].reset_index(drop=True)"
   ]
  },
  {
   "cell_type": "code",
   "execution_count": 17,
   "metadata": {},
   "outputs": [],
   "source": [
    "# 학습 유형 결정을 위한 단계, 피쳐 스케일링 진행 여부 체크 \n",
    "poly = PolynomialFeatures(degree=2, include_bias=False)\n",
    "# str=['Weight','Length', 'Height' ,'Width' ,'Weight^2' ,'Weight_Length',\n",
    "#  'Weight_Height', 'Weight_Width', 'Length^2' ,'Length_Height' ,'Length_Width',\n",
    "#  'Height^2' ,'Height_Width', 'Width^2']\n",
    "df2=pd.DataFrame(poly.fit_transform(df[df.columns[2:]]), columns=poly.get_feature_names_out())\n",
    "#print(poly.get_feature_names_out())\n",
    "import statsmodels.formula.api as smf # ols 분석 시행하여 유의미한 변수를 찾음\n",
    "\n",
    "\n",
    "# result = '+'.join(str[1:])\n",
    "# print(result)\n",
    "# formula = f'Weight ~ Length+Height+Width+Weight^2+Weight_Length'\n",
    "# result = smf.ols(formula, df2).fit()\n",
    "# result.summary()"
   ]
  },
  {
   "cell_type": "code",
   "execution_count": 18,
   "metadata": {},
   "outputs": [],
   "source": [
    "from sklearn.model_selection import train_test_split\n",
    "from sklearn.preprocessing import StandardScaler, MinMaxScaler, RobustScaler\n",
    "result= pd.concat([df[[\"Weight\"]],df2],axis=1) "
   ]
  },
  {
   "cell_type": "code",
   "execution_count": 19,
   "metadata": {},
   "outputs": [
    {
     "data": {
      "text/plain": [
       "Weight    1.000000\n",
       "Length    0.958656\n",
       "Height    0.968441\n",
       "Width     0.963943\n",
       "Name: Weight, dtype: float64"
      ]
     },
     "execution_count": 19,
     "metadata": {},
     "output_type": "execute_result"
    }
   ],
   "source": [
    "df[df.columns[1:]].corr()[\"Weight\"] # Length Height, Length Width, Height Width => 3개로 추림"
   ]
  },
  {
   "cell_type": "code",
   "execution_count": 20,
   "metadata": {},
   "outputs": [],
   "source": [
    "from sklearn.linear_model import LinearRegression\n",
    "\n",
    "target=df[\"Weight\"]\n",
    "feature=df[[\"Length\",\"Width\",\"Height\"]]"
   ]
  },
  {
   "cell_type": "code",
   "execution_count": 21,
   "metadata": {},
   "outputs": [],
   "source": [
    "x_train, x_test, y_train, y_test = train_test_split(feature, \n",
    "                                                    target, \n",
    "                                                    test_size=0.3)"
   ]
  },
  {
   "cell_type": "code",
   "execution_count": 22,
   "metadata": {},
   "outputs": [],
   "source": [
    "std_scaler=StandardScaler()\n",
    "mm_scaler=MinMaxScaler()\n",
    "rb_scaler=RobustScaler()\n",
    "sl=[std_scaler, mm_scaler, rb_scaler]\n",
    "\n",
    "sv= [[],[],[]]\n",
    "sv2=[[],[],[]]\n",
    "\n",
    "for i,v in enumerate(sl) :\n",
    "    v.fit(x_train)\n",
    "    sv[i]=v.transform(x_train).copy()\n",
    "    v.fit(x_test)\n",
    "    sv2[i]=v.transform(x_test).copy()\n",
    "    \n",
    "    \n",
    "x_train_std=sv[0]\n",
    "x_train_mm=sv[1]\n",
    "x_train_rb=sv[2]\n",
    "x_test_std=sv2[0]\n",
    "x_test_mm=sv2[1]\n",
    "x_test_rb=sv2[2]"
   ]
  },
  {
   "cell_type": "code",
   "execution_count": 23,
   "metadata": {},
   "outputs": [],
   "source": [
    "\n",
    "dataset=[x_train_std, x_train_mm, x_train_rb, x_test_std, x_test_mm, x_test_rb]\n",
    "score_list=[]\n",
    "for i in range(int(len(dataset)/2)) :\n",
    "    model=LinearRegression()\n",
    "    model.fit(dataset[i], y_train)\n",
    "    train_score=model.score(dataset[i], y_train)\n",
    "    model.fit(dataset[i+3], y_test)\n",
    "    test_score=model.score(dataset[i+3], y_test)\n",
    "    score_list.append([train_score, test_score])\n"
   ]
  },
  {
   "cell_type": "code",
   "execution_count": 24,
   "metadata": {},
   "outputs": [
    {
     "data": {
      "text/plain": [
       "[[0.9387531408167363, 0.9580537823980138],\n",
       " [0.9387531408167364, 0.9580537823980138],\n",
       " [0.9387531408167364, 0.9580537823980138]]"
      ]
     },
     "execution_count": 24,
     "metadata": {},
     "output_type": "execute_result"
    }
   ],
   "source": [
    "score_list"
   ]
  },
  {
   "cell_type": "code",
   "execution_count": 25,
   "metadata": {},
   "outputs": [
    {
     "data": {
      "image/png": "[encoded data removed]",
      "text/plain": [
       "<Figure size 640x480 with 1 Axes>"
      ]
     },
     "metadata": {},
     "output_type": "display_data"
    }
   ],
   "source": [
    "import koreanize_matplotlib\n",
    "import matplotlib.pyplot as plt\n",
    "import numpy as np\n",
    "data=np.array(score_list).T\n",
    "plt.plot(range(3), data[0], color='cornflowerblue', label='train')\n",
    "plt.plot(range(3), data[1], color='royalblue', label='test')\n",
    "plt.legend()\n",
    "plt.hlines(y=0.88, xmin=-0.5, xmax=2.5, colors='r', linestyles='dashed', label='Horizontal Line')\n",
    "plt.xticks(range(3), ['std', 'mm', 'rb'])\n",
    "plt.xlabel(\"정규화 방식\")\n",
    "plt.ylabel(\"정확도(%)\")\n",
    "plt.title(\"PolyFeatures를 거친 train/test 정확도\")\n",
    "plt.ylim(0.8, 1)\n",
    "plt.grid(True)\n",
    "plt.show()"
   ]
  },
  {
   "cell_type": "code",
   "execution_count": null,
   "metadata": {},
   "outputs": [],
   "source": []
  }
 ],
 "metadata": {
  "kernelspec": {
   "display_name": "EXAM_ML",
   "language": "python",
   "name": "python3"
  },
  "language_info": {
   "codemirror_mode": {
    "name": "ipython",
    "version": 3
   },
   "file_extension": ".py",
   "mimetype": "text/x-python",
   "name": "python",
   "nbconvert_exporter": "python",
   "pygments_lexer": "ipython3",
   "version": "3.9.18"
  }
 },
 "nbformat": 4,
 "nbformat_minor": 2
}
