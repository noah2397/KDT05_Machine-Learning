{
 "cells": [
  {
   "cell_type": "code",
   "execution_count": 264,
   "metadata": {},
   "outputs": [],
   "source": [
    "import pandas as pd\n",
    "import numpy as np\n",
    "import matplotlib.pyplot as plt\n",
    "import koreanize_matplotlib\n",
    "import seaborn as sns\n",
    "\n",
    "df=pd.read_csv(\"student.csv\", sep=\";\")"
   ]
  },
  {
   "cell_type": "code",
   "execution_count": 265,
   "metadata": {},
   "outputs": [
    {
     "data": {
      "text/plain": [
       "(array([ 38.,   0.,   8.,  24.,  60., 103.,  62.,  60.,  22.,  18.]),\n",
       " array([ 0.,  2.,  4.,  6.,  8., 10., 12., 14., 16., 18., 20.]),\n",
       " <BarContainer object of 10 artists>)"
      ]
     },
     "execution_count": 265,
     "metadata": {},
     "output_type": "execute_result"
    },
    {
     "data": {
      "image/png": "[encoded data removed]",
      "text/plain": [
       "<Figure size 640x480 with 1 Axes>"
      ]
     },
     "metadata": {},
     "output_type": "display_data"
    }
   ],
   "source": [
    "plt.hist(df[\"G3\"]) # 이런...양아치들이 있었다\n",
    "# 0점인 학생과 아닌 학생을 분리하면, 정확도가 더 높아질 것 같다! "
   ]
  },
  {
   "cell_type": "code",
   "execution_count": 266,
   "metadata": {},
   "outputs": [],
   "source": [
    "df_0=df[df[\"G3\"]==0] # 성적이 0점인 학생들은 따로 분리\n",
    "df=df[df[\"G3\"]!=0] # 기존의 df변수는 0점인 학생들을 제외하고 저장"
   ]
  },
  {
   "cell_type": "code",
   "execution_count": 267,
   "metadata": {},
   "outputs": [],
   "source": [
    "# 문자 형식의 열은 삭제\n",
    "for i in df.columns:\n",
    "    if df[i].dtype == \"object\": # 컬럼의 타입이 \"Object\"이면,\n",
    "        df.drop(i, axis=1, inplace=True)"
   ]
  },
  {
   "cell_type": "code",
   "execution_count": 268,
   "metadata": {},
   "outputs": [],
   "source": [
    "df.reset_index(drop=True, inplace=True)"
   ]
  },
  {
   "cell_type": "code",
   "execution_count": 269,
   "metadata": {},
   "outputs": [],
   "source": [
    "# 이상값 제거\n",
    "import scipy.stats as stats \n",
    "z = np.abs(stats.zscore(df)) \n",
    "index,_=np.where(z>2.5)"
   ]
  },
  {
   "cell_type": "code",
   "execution_count": 270,
   "metadata": {},
   "outputs": [],
   "source": [
    "# 이상치를 심하게 웃도는 데이터 제거 \n",
    "df.drop(index, axis=0, inplace=True)\n",
    "df.reset_index(drop=True, inplace=True)"
   ]
  },
  {
   "cell_type": "code",
   "execution_count": 271,
   "metadata": {},
   "outputs": [
    {
     "data": {
      "text/plain": [
       "Index(['age', 'Medu', 'Fedu', 'traveltime', 'studytime', 'failures', 'famrel',\n",
       "       'freetime', 'goout', 'Dalc', 'Walc', 'health', 'absences', 'G1', 'G2',\n",
       "       'G3'],\n",
       "      dtype='object')"
      ]
     },
     "execution_count": 271,
     "metadata": {},
     "output_type": "execute_result"
    }
   ],
   "source": [
    "df.columns"
   ]
  },
  {
   "cell_type": "code",
   "execution_count": 272,
   "metadata": {},
   "outputs": [
    {
     "data": {
      "text/plain": [
       "'age+Medu+Fedu+traveltime+studytime+failures+famrel+freetime+goout+Dalc+Walc+health+absences'"
      ]
     },
     "execution_count": 272,
     "metadata": {},
     "output_type": "execute_result"
    }
   ],
   "source": [
    "med=df[df.columns[:13]]\n",
    "strr=\"+\".join(med)\n",
    "strr"
   ]
  },
  {
   "cell_type": "code",
   "execution_count": 273,
   "metadata": {},
   "outputs": [
    {
     "data": {
      "text/html": [
       "<table class=\"simpletable\">\n",
       "<caption>OLS Regression Results</caption>\n",
       "<tr>\n",
       "  <th>Dep. Variable:</th>           <td>G3</td>        <th>  R-squared:         </th> <td>   0.111</td>\n",
       "</tr>\n",
       "<tr>\n",
       "  <th>Model:</th>                   <td>OLS</td>       <th>  Adj. R-squared:    </th> <td>   0.070</td>\n",
       "</tr>\n",
       "<tr>\n",
       "  <th>Method:</th>             <td>Least Squares</td>  <th>  F-statistic:       </th> <td>   2.737</td>\n",
       "</tr>\n",
       "<tr>\n",
       "  <th>Date:</th>             <td>Thu, 29 Feb 2024</td> <th>  Prob (F-statistic):</th>  <td>0.00113</td>\n",
       "</tr>\n",
       "<tr>\n",
       "  <th>Time:</th>                 <td>20:18:56</td>     <th>  Log-Likelihood:    </th> <td> -752.16</td>\n",
       "</tr>\n",
       "<tr>\n",
       "  <th>No. Observations:</th>      <td>   300</td>      <th>  AIC:               </th> <td>   1532.</td>\n",
       "</tr>\n",
       "<tr>\n",
       "  <th>Df Residuals:</th>          <td>   286</td>      <th>  BIC:               </th> <td>   1584.</td>\n",
       "</tr>\n",
       "<tr>\n",
       "  <th>Df Model:</th>              <td>    13</td>      <th>                     </th>     <td> </td>   \n",
       "</tr>\n",
       "<tr>\n",
       "  <th>Covariance Type:</th>      <td>nonrobust</td>    <th>                     </th>     <td> </td>   \n",
       "</tr>\n",
       "</table>\n",
       "<table class=\"simpletable\">\n",
       "<tr>\n",
       "       <td></td>         <th>coef</th>     <th>std err</th>      <th>t</th>      <th>P>|t|</th>  <th>[0.025</th>    <th>0.975]</th>  \n",
       "</tr>\n",
       "<tr>\n",
       "  <th>Intercept</th>  <td>   13.2983</td> <td>    2.975</td> <td>    4.470</td> <td> 0.000</td> <td>    7.442</td> <td>   19.154</td>\n",
       "</tr>\n",
       "<tr>\n",
       "  <th>age</th>        <td>   -0.1319</td> <td>    0.167</td> <td>   -0.791</td> <td> 0.429</td> <td>   -0.460</td> <td>    0.196</td>\n",
       "</tr>\n",
       "<tr>\n",
       "  <th>Medu</th>       <td>    0.5820</td> <td>    0.212</td> <td>    2.749</td> <td> 0.006</td> <td>    0.165</td> <td>    0.999</td>\n",
       "</tr>\n",
       "<tr>\n",
       "  <th>Fedu</th>       <td>    0.0417</td> <td>    0.206</td> <td>    0.202</td> <td> 0.840</td> <td>   -0.365</td> <td>    0.448</td>\n",
       "</tr>\n",
       "<tr>\n",
       "  <th>traveltime</th> <td>   -0.1115</td> <td>    0.311</td> <td>   -0.358</td> <td> 0.721</td> <td>   -0.724</td> <td>    0.501</td>\n",
       "</tr>\n",
       "<tr>\n",
       "  <th>studytime</th>  <td>    0.2029</td> <td>    0.231</td> <td>    0.879</td> <td> 0.380</td> <td>   -0.252</td> <td>    0.657</td>\n",
       "</tr>\n",
       "<tr>\n",
       "  <th>failures</th>   <td>   -0.4329</td> <td>    0.624</td> <td>   -0.694</td> <td> 0.488</td> <td>   -1.660</td> <td>    0.795</td>\n",
       "</tr>\n",
       "<tr>\n",
       "  <th>famrel</th>     <td>    0.1045</td> <td>    0.234</td> <td>    0.447</td> <td> 0.655</td> <td>   -0.356</td> <td>    0.565</td>\n",
       "</tr>\n",
       "<tr>\n",
       "  <th>freetime</th>   <td>    0.1939</td> <td>    0.187</td> <td>    1.038</td> <td> 0.300</td> <td>   -0.174</td> <td>    0.562</td>\n",
       "</tr>\n",
       "<tr>\n",
       "  <th>goout</th>      <td>   -0.4135</td> <td>    0.191</td> <td>   -2.162</td> <td> 0.031</td> <td>   -0.790</td> <td>   -0.037</td>\n",
       "</tr>\n",
       "<tr>\n",
       "  <th>Dalc</th>       <td>   -0.0910</td> <td>    0.379</td> <td>   -0.240</td> <td> 0.810</td> <td>   -0.837</td> <td>    0.655</td>\n",
       "</tr>\n",
       "<tr>\n",
       "  <th>Walc</th>       <td>   -0.0104</td> <td>    0.204</td> <td>   -0.051</td> <td> 0.959</td> <td>   -0.411</td> <td>    0.390</td>\n",
       "</tr>\n",
       "<tr>\n",
       "  <th>health</th>     <td>   -0.1646</td> <td>    0.130</td> <td>   -1.270</td> <td> 0.205</td> <td>   -0.420</td> <td>    0.091</td>\n",
       "</tr>\n",
       "<tr>\n",
       "  <th>absences</th>   <td>   -0.0693</td> <td>    0.035</td> <td>   -2.003</td> <td> 0.046</td> <td>   -0.137</td> <td>   -0.001</td>\n",
       "</tr>\n",
       "</table>\n",
       "<table class=\"simpletable\">\n",
       "<tr>\n",
       "  <th>Omnibus:</th>       <td> 2.303</td> <th>  Durbin-Watson:     </th> <td>   2.200</td>\n",
       "</tr>\n",
       "<tr>\n",
       "  <th>Prob(Omnibus):</th> <td> 0.316</td> <th>  Jarque-Bera (JB):  </th> <td>   2.086</td>\n",
       "</tr>\n",
       "<tr>\n",
       "  <th>Skew:</th>          <td> 0.114</td> <th>  Prob(JB):          </th> <td>   0.352</td>\n",
       "</tr>\n",
       "<tr>\n",
       "  <th>Kurtosis:</th>      <td> 2.660</td> <th>  Cond. No.          </th> <td>    332.</td>\n",
       "</tr>\n",
       "</table><br/><br/>Notes:<br/>[1] Standard Errors assume that the covariance matrix of the errors is correctly specified."
      ],
      "text/latex": [
       "\\begin{center}\n",
       "\\begin{tabular}{lclc}\n",
       "\\toprule\n",
       "\\textbf{Dep. Variable:}    &        G3        & \\textbf{  R-squared:         } &     0.111   \\\\\n",
       "\\textbf{Model:}            &       OLS        & \\textbf{  Adj. R-squared:    } &     0.070   \\\\\n",
       "\\textbf{Method:}           &  Least Squares   & \\textbf{  F-statistic:       } &     2.737   \\\\\n",
       "\\textbf{Date:}             & Thu, 29 Feb 2024 & \\textbf{  Prob (F-statistic):} &  0.00113    \\\\\n",
       "\\textbf{Time:}             &     20:18:56     & \\textbf{  Log-Likelihood:    } &   -752.16   \\\\\n",
       "\\textbf{No. Observations:} &         300      & \\textbf{  AIC:               } &     1532.   \\\\\n",
       "\\textbf{Df Residuals:}     &         286      & \\textbf{  BIC:               } &     1584.   \\\\\n",
       "\\textbf{Df Model:}         &          13      & \\textbf{                     } &             \\\\\n",
       "\\textbf{Covariance Type:}  &    nonrobust     & \\textbf{                     } &             \\\\\n",
       "\\bottomrule\n",
       "\\end{tabular}\n",
       "\\begin{tabular}{lcccccc}\n",
       "                    & \\textbf{coef} & \\textbf{std err} & \\textbf{t} & \\textbf{P$> |$t$|$} & \\textbf{[0.025} & \\textbf{0.975]}  \\\\\n",
       "\\midrule\n",
       "\\textbf{Intercept}  &      13.2983  &        2.975     &     4.470  &         0.000        &        7.442    &       19.154     \\\\\n",
       "\\textbf{age}        &      -0.1319  &        0.167     &    -0.791  &         0.429        &       -0.460    &        0.196     \\\\\n",
       "\\textbf{Medu}       &       0.5820  &        0.212     &     2.749  &         0.006        &        0.165    &        0.999     \\\\\n",
       "\\textbf{Fedu}       &       0.0417  &        0.206     &     0.202  &         0.840        &       -0.365    &        0.448     \\\\\n",
       "\\textbf{traveltime} &      -0.1115  &        0.311     &    -0.358  &         0.721        &       -0.724    &        0.501     \\\\\n",
       "\\textbf{studytime}  &       0.2029  &        0.231     &     0.879  &         0.380        &       -0.252    &        0.657     \\\\\n",
       "\\textbf{failures}   &      -0.4329  &        0.624     &    -0.694  &         0.488        &       -1.660    &        0.795     \\\\\n",
       "\\textbf{famrel}     &       0.1045  &        0.234     &     0.447  &         0.655        &       -0.356    &        0.565     \\\\\n",
       "\\textbf{freetime}   &       0.1939  &        0.187     &     1.038  &         0.300        &       -0.174    &        0.562     \\\\\n",
       "\\textbf{goout}      &      -0.4135  &        0.191     &    -2.162  &         0.031        &       -0.790    &       -0.037     \\\\\n",
       "\\textbf{Dalc}       &      -0.0910  &        0.379     &    -0.240  &         0.810        &       -0.837    &        0.655     \\\\\n",
       "\\textbf{Walc}       &      -0.0104  &        0.204     &    -0.051  &         0.959        &       -0.411    &        0.390     \\\\\n",
       "\\textbf{health}     &      -0.1646  &        0.130     &    -1.270  &         0.205        &       -0.420    &        0.091     \\\\\n",
       "\\textbf{absences}   &      -0.0693  &        0.035     &    -2.003  &         0.046        &       -0.137    &       -0.001     \\\\\n",
       "\\bottomrule\n",
       "\\end{tabular}\n",
       "\\begin{tabular}{lclc}\n",
       "\\textbf{Omnibus:}       &  2.303 & \\textbf{  Durbin-Watson:     } &    2.200  \\\\\n",
       "\\textbf{Prob(Omnibus):} &  0.316 & \\textbf{  Jarque-Bera (JB):  } &    2.086  \\\\\n",
       "\\textbf{Skew:}          &  0.114 & \\textbf{  Prob(JB):          } &    0.352  \\\\\n",
       "\\textbf{Kurtosis:}      &  2.660 & \\textbf{  Cond. No.          } &     332.  \\\\\n",
       "\\bottomrule\n",
       "\\end{tabular}\n",
       "%\\caption{OLS Regression Results}\n",
       "\\end{center}\n",
       "\n",
       "Notes: \\newline\n",
       " [1] Standard Errors assume that the covariance matrix of the errors is correctly specified."
      ],
      "text/plain": [
       "<class 'statsmodels.iolib.summary.Summary'>\n",
       "\"\"\"\n",
       "                            OLS Regression Results                            \n",
       "==============================================================================\n",
       "Dep. Variable:                     G3   R-squared:                       0.111\n",
       "Model:                            OLS   Adj. R-squared:                  0.070\n",
       "Method:                 Least Squares   F-statistic:                     2.737\n",
       "Date:                Thu, 29 Feb 2024   Prob (F-statistic):            0.00113\n",
       "Time:                        20:18:56   Log-Likelihood:                -752.16\n",
       "No. Observations:                 300   AIC:                             1532.\n",
       "Df Residuals:                     286   BIC:                             1584.\n",
       "Df Model:                          13                                         \n",
       "Covariance Type:            nonrobust                                         \n",
       "==============================================================================\n",
       "                 coef    std err          t      P>|t|      [0.025      0.975]\n",
       "------------------------------------------------------------------------------\n",
       "Intercept     13.2983      2.975      4.470      0.000       7.442      19.154\n",
       "age           -0.1319      0.167     -0.791      0.429      -0.460       0.196\n",
       "Medu           0.5820      0.212      2.749      0.006       0.165       0.999\n",
       "Fedu           0.0417      0.206      0.202      0.840      -0.365       0.448\n",
       "traveltime    -0.1115      0.311     -0.358      0.721      -0.724       0.501\n",
       "studytime      0.2029      0.231      0.879      0.380      -0.252       0.657\n",
       "failures      -0.4329      0.624     -0.694      0.488      -1.660       0.795\n",
       "famrel         0.1045      0.234      0.447      0.655      -0.356       0.565\n",
       "freetime       0.1939      0.187      1.038      0.300      -0.174       0.562\n",
       "goout         -0.4135      0.191     -2.162      0.031      -0.790      -0.037\n",
       "Dalc          -0.0910      0.379     -0.240      0.810      -0.837       0.655\n",
       "Walc          -0.0104      0.204     -0.051      0.959      -0.411       0.390\n",
       "health        -0.1646      0.130     -1.270      0.205      -0.420       0.091\n",
       "absences      -0.0693      0.035     -2.003      0.046      -0.137      -0.001\n",
       "==============================================================================\n",
       "Omnibus:                        2.303   Durbin-Watson:                   2.200\n",
       "Prob(Omnibus):                  0.316   Jarque-Bera (JB):                2.086\n",
       "Skew:                           0.114   Prob(JB):                        0.352\n",
       "Kurtosis:                       2.660   Cond. No.                         332.\n",
       "==============================================================================\n",
       "\n",
       "Notes:\n",
       "[1] Standard Errors assume that the covariance matrix of the errors is correctly specified.\n",
       "\"\"\""
      ]
     },
     "execution_count": 273,
     "metadata": {},
     "output_type": "execute_result"
    }
   ],
   "source": [
    "# ols 분석 시행하여 유의미한 변수를 찾음\n",
    "import statsmodels.formula.api as smf \n",
    "formula = f'G3 ~ {strr}'\n",
    "result = smf.ols(formula, df).fit()\n",
    "result.summary()"
   ]
  },
  {
   "cell_type": "code",
   "execution_count": 274,
   "metadata": {},
   "outputs": [
    {
     "data": {
      "text/plain": [
       "freetime      0.025340\n",
       "health        0.058288\n",
       "traveltime    0.065291\n",
       "famrel        0.066035\n",
       "Dalc          0.076599\n",
       "studytime     0.079444\n",
       "Walc          0.120006\n",
       "Fedu          0.136787\n",
       "age           0.136894\n",
       "goout         0.137101\n",
       "failures      0.155888\n",
       "absences      0.161322\n",
       "Medu          0.212431\n",
       "G1            0.888753\n",
       "G2            0.968069\n",
       "G3            1.000000\n",
       "Name: G3, dtype: float64"
      ]
     },
     "execution_count": 274,
     "metadata": {},
     "output_type": "execute_result"
    }
   ],
   "source": [
    "np.abs(df.corr()[\"G3\"]).sort_values()"
   ]
  },
  {
   "cell_type": "code",
   "execution_count": 275,
   "metadata": {},
   "outputs": [],
   "source": [
    "from sklearn.model_selection import train_test_split \n",
    "feature=df[[\"Medu\",\"absences\",\"failures\",\"goout\"]]\n",
    "target=df[\"G3\"]"
   ]
  },
  {
   "cell_type": "code",
   "execution_count": 276,
   "metadata": {},
   "outputs": [],
   "source": [
    "x_train, x_test, y_train, y_test = train_test_split(feature, \n",
    "                                                    target, \n",
    "                                                    test_size=0.2)"
   ]
  },
  {
   "cell_type": "code",
   "execution_count": 277,
   "metadata": {},
   "outputs": [
    {
     "name": "stderr",
     "output_type": "stream",
     "text": [
      "c:\\ProgramData\\anaconda3\\envs\\EXAM_ML\\lib\\site-packages\\sklearn\\preprocessing\\_data.py:2667: UserWarning: n_quantiles (100) is greater than the total number of samples (60). n_quantiles is set to n_samples.\n",
      "  warnings.warn(\n"
     ]
    }
   ],
   "source": [
    "from sklearn.preprocessing import StandardScaler     \n",
    "from sklearn.preprocessing import MinMaxScaler     \n",
    "from sklearn.preprocessing import RobustScaler     \n",
    "from sklearn.preprocessing import SplineTransformer     \n",
    "from sklearn.preprocessing import QuantileTransformer   \n",
    "\n",
    "std_s=StandardScaler()\n",
    "x_train_std=std_s.fit_transform(x_train)\n",
    "std_s=StandardScaler()\n",
    "x_test_std=std_s.fit_transform(x_test)\n",
    "\n",
    "mm_s=MinMaxScaler()\n",
    "x_train_mm=mm_s.fit_transform(x_train)\n",
    "mm_s=MinMaxScaler()\n",
    "x_test_mm=mm_s.fit_transform(x_test)\n",
    "\n",
    "ro_s=RobustScaler()\n",
    "x_train_ro=ro_s.fit_transform(x_train)\n",
    "ro_s=RobustScaler()\n",
    "x_test_ro=ro_s.fit_transform(x_test)\n",
    "\n",
    "sq_s=SplineTransformer()\n",
    "x_train_sq=sq_s.fit_transform(x_train)\n",
    "sq_s=SplineTransformer()\n",
    "x_test_sq=sq_s.fit_transform(x_test)\n",
    "\n",
    "qt_s=QuantileTransformer(n_quantiles=100)\n",
    "x_train_qt=qt_s.fit_transform(x_train)\n",
    "qt_s=QuantileTransformer(n_quantiles=100)\n",
    "x_test_qt=qt_s.fit_transform(x_test)\n",
    "\n"
   ]
  },
  {
   "cell_type": "code",
   "execution_count": 278,
   "metadata": {},
   "outputs": [
    {
     "data": {
      "text/plain": [
       "10"
      ]
     },
     "execution_count": 278,
     "metadata": {},
     "output_type": "execute_result"
    }
   ],
   "source": [
    "x_data=[x_train_std,x_test_std,x_train_mm,x_test_mm,x_train_ro,x_test_ro,x_train_sq,x_test_sq,x_train_qt,x_test_qt]\n",
    "len(x_data) # 2X5=10개의 X 데이터 셋 마련 "
   ]
  },
  {
   "cell_type": "code",
   "execution_count": 279,
   "metadata": {},
   "outputs": [],
   "source": [
    "from sklearn.neighbors import KNeighborsClassifier         \n",
    "from sklearn.ensemble import RandomForestRegressor     \n",
    "from sklearn.svm import SVR     \n",
    "from sklearn.linear_model import LogisticRegression     \n",
    "from sklearn.neighbors import KNeighborsRegressor     \n",
    "from sklearn.linear_model import LinearRegression        \n",
    "from sklearn.multiclass import OneVsRestClassifier     \n",
    "from sklearn.multiclass import OneVsOneClassifier        \n",
    "from sklearn.metrics import mean_squared_error     \n",
    "from sklearn.metrics import mean_absolute_error     \n",
    "from sklearn.metrics import r2_score       \n",
    "from sklearn.metrics import accuracy_score     \n",
    "from sklearn.metrics import precision_score     \n",
    "from sklearn.metrics import recall_score     \n",
    "from sklearn.metrics import f1_score     \n",
    "from sklearn.metrics import confusion_matrix     \n",
    "from sklearn.metrics import classification_report \n",
    "\n",
    "model_list=[KNeighborsClassifier(), \n",
    "            LogisticRegression(), # 여기까지는 분류 측정 지표 계산 가능\n",
    "            RandomForestRegressor(),\n",
    "            SVR(),\n",
    "            KNeighborsRegressor(),\n",
    "            LinearRegression()] \n",
    "#OvO_list=[OneVsRestClassifier(),OneVsOneClassifier()]\n",
    "\n",
    "score_dict=dict()\n",
    "\n",
    "for i in range(0,10,2) : \n",
    "    for n in range(1,20):\n",
    "        for m in ['uniform','distance']:\n",
    "            for s in ['auto','ball_tree','kd_tree','brute']:\n",
    "                model=KNeighborsClassifier(n_neighbors=n,weights=m,algorithm=s)\n",
    "                model.fit(x_data[i], y_train)\n",
    "                train_score=model.score(x_data[i], y_train)                # (1) train_score  \n",
    "                test_score=model.score(x_data[i+1], y_test)                # (2) test_score  \n",
    "                score_dict.setdefault((i,n,m,s),test_score)\n",
    "                \n",
    "    \n",
    "    \n",
    "    "
   ]
  },
  {
   "cell_type": "code",
   "execution_count": 285,
   "metadata": {},
   "outputs": [
    {
     "data": {
      "text/plain": [
       "0.21666666666666667"
      ]
     },
     "execution_count": 285,
     "metadata": {},
     "output_type": "execute_result"
    }
   ],
   "source": [
    "max(score_dict.values())\n",
    "#score_df=pd.DataFrame(score_dict)\n",
    "#score_df#.columns=[\"StandardScaler\",\"MinMaxScaler\",\"RobustScaler\",\"SplineTransformer \",\"QuantileTransformer\"]"
   ]
  },
  {
   "cell_type": "code",
   "execution_count": 286,
   "metadata": {},
   "outputs": [],
   "source": [
    "# 21.6%? 흐하하하....정신이 나갈 것 같다\n",
    "# 이제 로지스틱 회귀와 OvOmodel을 사용해서 해보자 "
   ]
  },
  {
   "cell_type": "code",
   "execution_count": 298,
   "metadata": {},
   "outputs": [
    {
     "name": "stdout",
     "output_type": "stream",
     "text": [
      "l1 lbfgs auto\n",
      "l1 lbfgs ovr\n",
      "l1 lbfgs multinomial\n",
      "l1 liblinear auto\n",
      "l1 liblinear ovr\n",
      "l1 liblinear multinomial\n",
      "l1 newton-cg auto\n",
      "l1 newton-cg ovr\n",
      "l1 newton-cg multinomial\n",
      "l1 newton-cholesky auto\n",
      "l1 newton-cholesky ovr\n",
      "l1 newton-cholesky multinomial\n",
      "l1 sag auto\n",
      "l1 sag ovr\n",
      "l1 sag multinomial\n",
      "l1 saga auto\n",
      "l1 saga ovr\n",
      "l1 saga multinomial\n",
      "l2 lbfgs auto\n",
      "l2 lbfgs ovr\n",
      "l2 lbfgs multinomial\n",
      "l2 liblinear auto\n",
      "l2 liblinear ovr\n",
      "l2 liblinear multinomial\n",
      "l2 newton-cg auto\n",
      "l2 newton-cg ovr\n",
      "l2 newton-cg multinomial\n",
      "l2 newton-cholesky auto\n",
      "l2 newton-cholesky ovr\n",
      "l2 newton-cholesky multinomial\n",
      "l2 sag auto\n",
      "l2 sag ovr\n",
      "l2 sag multinomial\n",
      "l2 saga auto\n",
      "l2 saga ovr\n",
      "l2 saga multinomial\n",
      "elasticnet lbfgs auto\n",
      "elasticnet lbfgs ovr\n",
      "elasticnet lbfgs multinomial\n",
      "elasticnet liblinear auto\n",
      "elasticnet liblinear ovr\n",
      "elasticnet liblinear multinomial\n",
      "elasticnet newton-cg auto\n",
      "elasticnet newton-cg ovr\n",
      "elasticnet newton-cg multinomial\n",
      "elasticnet newton-cholesky auto\n",
      "elasticnet newton-cholesky ovr\n",
      "elasticnet newton-cholesky multinomial\n",
      "elasticnet sag auto\n",
      "elasticnet sag ovr\n",
      "elasticnet sag multinomial\n",
      "elasticnet saga auto\n",
      "elasticnet saga ovr\n",
      "elasticnet saga multinomial\n",
      "None lbfgs auto\n",
      "None lbfgs ovr\n",
      "None lbfgs multinomial\n",
      "None liblinear auto\n",
      "None liblinear ovr\n",
      "None liblinear multinomial\n",
      "None newton-cg auto\n",
      "None newton-cg ovr\n",
      "None newton-cg multinomial\n",
      "None newton-cholesky auto\n",
      "None newton-cholesky ovr\n",
      "None newton-cholesky multinomial\n",
      "None sag auto\n",
      "None sag ovr\n",
      "None sag multinomial\n",
      "None saga auto\n",
      "None saga ovr\n",
      "None saga multinomial\n"
     ]
    }
   ],
   "source": [
    "score_dict=dict()\n",
    "for n in [\"l1\",\"l2\",\"elasticnet\",None]:\n",
    "    for m in ['lbfgs','liblinear','newton-cg','newton-cholesky','sag','saga']:\n",
    "        for s in ['auto','ovr','multinomial']:\n",
    "            print(n,m,s)\n",
    "            try :\n",
    "                model=LogisticRegression(max_iter=10000, solver=m, multi_class=s,penalty=n)\n",
    "                model.fit(x_data[0], y_train)\n",
    "                train_score=model.score(x_data[0], y_train)  # (1) train_score  \n",
    "                test_score=model.score(x_data[0+1], y_test)  # (2) test_score  \n",
    "                score_dict.setdefault((0,n,m,s),test_score)\n",
    "            except ValueError :\n",
    "                continue"
   ]
  },
  {
   "cell_type": "code",
   "execution_count": 299,
   "metadata": {},
   "outputs": [
    {
     "name": "stdout",
     "output_type": "stream",
     "text": [
      "최대값: 0.21666666666666667\n",
      "최대값을 가지는 키: [(0, None, 'lbfgs', 'auto'), (0, None, 'lbfgs', 'multinomial'), (0, None, 'newton-cg', 'auto'), (0, None, 'newton-cg', 'multinomial'), (0, None, 'sag', 'auto'), (0, None, 'sag', 'multinomial'), (0, None, 'saga', 'auto'), (0, None, 'saga', 'multinomial')]\n"
     ]
    }
   ],
   "source": [
    "max_value = max(score_dict.values())\n",
    "max_keys = [key for key, value in score_dict.items() if value == max_value]\n",
    "\n",
    "print(\"최대값:\", max_value)\n",
    "print(\"최대값을 가지는 키:\", max_keys)"
   ]
  },
  {
   "cell_type": "code",
   "execution_count": 300,
   "metadata": {},
   "outputs": [
    {
     "name": "stdout",
     "output_type": "stream",
     "text": [
      "train score : 0.22916666666666666\n",
      " test score : 0.13333333333333333\n"
     ]
    }
   ],
   "source": [
    "model=LogisticRegression(max_iter=10000, solver='lbfgs', multi_class='auto',penalty=None)\n",
    "\n",
    "ovoModel=OneVsOneClassifier(model)\n",
    "ovoModel.fit(x_train, y_train)\n",
    "print(f\"train score : {ovoModel.score(x_train, y_train)}\\n test score : {ovoModel.score(x_test, y_test)}\") # 22.9%!!!! 1% 올렸다 대박.... "
   ]
  },
  {
   "cell_type": "code",
   "execution_count": 303,
   "metadata": {},
   "outputs": [
    {
     "data": {
      "text/plain": [
       "array([18], dtype=int64)"
      ]
     },
     "execution_count": 303,
     "metadata": {},
     "output_type": "execute_result"
    }
   ],
   "source": [
    "# 그만해야겠다....역시 이런 데이터로는 공부를 잘하는 학생을 예측할 수 없다\n",
    "# 그 사람만의 성격과 쌓아온 노력을 수치화할 수 없으며, 같이 어울리는 친구들이나\n",
    "# 어떤 해프닝에 의해서도 좌지우지 될 수 있는게 성적이다\n",
    "# 단순히 어떤 조건이 이렇게 해서 공부를 잘 할 수 있다고 판단한 내가 오만했다!\n",
    "# 참고로 나는 \n",
    "feature=df[[\"Medu\",\"absences\",\"failures\",\"goout\"]]\n",
    "\n",
    "# Medu : 어머니의 교육 : 4(고등교육)\n",
    "# absences : 결석 횟수 : 5?\n",
    "# failures : 낙제 횟수 : 0\n",
    "# goout : 외출 : 2(적음)\n",
    "model=LogisticRegression(max_iter=10000, solver='lbfgs', multi_class='auto',penalty=None)\n",
    "model.fit(x_train_std, y_train)\n",
    "model.predict([[4,5,0,2]])"
   ]
  },
  {
   "cell_type": "code",
   "execution_count": 304,
   "metadata": {},
   "outputs": [
    {
     "data": {
      "text/plain": [
       "count    300.000000\n",
       "mean      11.790000\n",
       "std        3.153683\n",
       "min        5.000000\n",
       "25%       10.000000\n",
       "50%       11.000000\n",
       "75%       14.000000\n",
       "max       19.000000\n",
       "Name: G3, dtype: float64"
      ]
     },
     "execution_count": 304,
     "metadata": {},
     "output_type": "execute_result"
    }
   ],
   "source": [
    "# 아니...18점이라고?\n",
    "df[\"G3\"].describe()"
   ]
  },
  {
   "cell_type": "code",
   "execution_count": null,
   "metadata": {},
   "outputs": [],
   "source": [
    "#이 녀석...성적의 범위가 5에서 19인데\n",
    "# 내 점수를 18점이라고 해주다니...감동이다...\n",
    "# 이 모델은 잘 만든 것 같다!(결론)"
   ]
  }
 ],
 "metadata": {
  "kernelspec": {
   "display_name": "EXAM_ML",
   "language": "python",
   "name": "python3"
  },
  "language_info": {
   "codemirror_mode": {
    "name": "ipython",
    "version": 3
   },
   "file_extension": ".py",
   "mimetype": "text/x-python",
   "name": "python",
   "nbconvert_exporter": "python",
   "pygments_lexer": "ipython3",
   "version": "3.9.18"
  }
 },
 "nbformat": 4,
 "nbformat_minor": 2
}
