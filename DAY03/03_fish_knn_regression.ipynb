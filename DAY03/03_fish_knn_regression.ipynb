{
 "cells": [
  {
   "cell_type": "code",
   "execution_count": 182,
   "metadata": {},
   "outputs": [],
   "source": [
    "import pandas as pd\n",
    "import matplotlib.pyplot as plt\n",
    "from sklearn.neighbors import KNeighborsClassifier\n",
    "from sklearn.model_selection import train_test_split\n",
    "from sklearn.preprocessing import StandardScaler, MinMaxScaler\n",
    "import koreanize_matplotlib\n",
    "from sklearn.linear_model import LinearRegression\n",
    "import numpy as np\n",
    "import seaborn as sns\n",
    "from sklearn.metrics import mean_squared_error,mean_absolute_error, r2_score\n",
    "from sklearn.neighbors import KNeighborsRegressor\n",
    "from scipy import stats\n",
    "# feature : 무게, target : 길이, 데이터 비율(훈련:테스트 = 0.7:0.3)\n",
    "\n",
    "df=pd.read_csv(\"../data/fish.csv\")\n",
    "test=df[[\"Species\",\"Weight\",\"Length\"]]"
   ]
  },
  {
   "cell_type": "code",
   "execution_count": 183,
   "metadata": {},
   "outputs": [
    {
     "name": "stdout",
     "output_type": "stream",
     "text": [
      "(array([140, 141, 141, 142, 142, 143, 143, 144, 144], dtype=int64), array([1, 0, 1, 0, 1, 0, 1, 0, 1], dtype=int64))\n"
     ]
    }
   ],
   "source": [
    "z = np.abs(stats.zscore(test[[\"Weight\",\"Length\"]]))\n",
    "\n",
    "threshold = 2\n",
    "print(np.where(z > threshold))"
   ]
  },
  {
   "cell_type": "code",
   "execution_count": 184,
   "metadata": {},
   "outputs": [],
   "source": [
    "df=test[test[\"Species\"].isin([\"Perch\"])]"
   ]
  },
  {
   "cell_type": "code",
   "execution_count": 185,
   "metadata": {},
   "outputs": [],
   "source": [
    "feature=df[[\"Weight\"]]\n",
    "target=df[\"Length\"]"
   ]
  },
  {
   "cell_type": "code",
   "execution_count": 186,
   "metadata": {},
   "outputs": [],
   "source": [
    "x_train, x_test, y_train, y_test = train_test_split(feature, target, test_size=0.3)"
   ]
  },
  {
   "cell_type": "code",
   "execution_count": 187,
   "metadata": {},
   "outputs": [],
   "source": [
    "score=dict()"
   ]
  },
  {
   "cell_type": "code",
   "execution_count": 188,
   "metadata": {},
   "outputs": [],
   "source": [
    "for i in range(1,3):\n",
    "    for j in ['uniform','distance']:\n",
    "        for s in ['auto','ball_tree','kd_tree','brute']:\n",
    "            model = KNeighborsRegressor(n_neighbors=i, weights=j, algorithm=s)\n",
    "            model.fit(x_train, y_train)\n",
    "            y_pre=model.predict(x_test)\n",
    "            score.setdefault((i,j,s),[model.score(x_train, y_train),model.score(x_test, y_test),\n",
    "                                      mean_squared_error(y_test, y_pre, squared=False) , # RMSE\n",
    "                                      mean_absolute_error(y_test, y_pre), # MAE\n",
    "                                      mean_squared_error(y_test, y_pre),# MSE\n",
    "                                      r2_score(y_test, y_pre)]) # R2"
   ]
  },
  {
   "cell_type": "code",
   "execution_count": 189,
   "metadata": {},
   "outputs": [
    {
     "name": "stdout",
     "output_type": "stream",
     "text": [
      "train score : 0.9989836224509181\n",
      "test score : 0.9524349915777454\n",
      "RMSE score : 2.238211223070996\n",
      "MAE score : 1.4585865962639861\n",
      "MSE score : 5.009589479080963\n",
      "R2 score : 0.9524349915777454\n"
     ]
    }
   ],
   "source": [
    "# 성능 ,R^2, 오차제곱합, 오차절댓값합\n",
    "# 훈련점수 > 테스트 점수 : 과대적합(Overfitting)\n",
    "# 훈련점수 ≒ 테스트점수 : 최적적합\n",
    "# 훈련점수 ↓, 테스트점수 ↓ : 과소적합(Underfitting)\n",
    "max(score, key=score.get)\n",
    "res=max(score.values())\n",
    "print(f\"train score : {res[0]}\")\n",
    "print(f\"test score : {res[1]}\")\n",
    "print(f\"RMSE score : {res[2]}\")\n",
    "print(f\"MAE score : {res[3]}\")\n",
    "print(f\"MSE score : {res[4]}\")\n",
    "print(f\"R2 score : {res[5]}\")"
   ]
  },
  {
   "cell_type": "code",
   "execution_count": 190,
   "metadata": {},
   "outputs": [
    {
     "data": {
      "text/plain": [
       "[0.9989836224509181,\n",
       " 0.9524349915777454,\n",
       " 2.238211223070996,\n",
       " 1.4585865962639861,\n",
       " 5.009589479080963,\n",
       " 0.9524349915777454]"
      ]
     },
     "execution_count": 190,
     "metadata": {},
     "output_type": "execute_result"
    }
   ],
   "source": [
    "res"
   ]
  },
  {
   "cell_type": "code",
   "execution_count": 191,
   "metadata": {},
   "outputs": [
    {
     "name": "stdout",
     "output_type": "stream",
     "text": [
      "1) MSE: 5.009589479080963\n",
      "2) MAE: 1.4585865962639861\n",
      "4) RMSE: 2.238211223070996\n"
     ]
    }
   ],
   "source": [
    "# 5. 성능 평가\n",
    "# - 과대 적합을 판단할 수 있다.\n",
    "#   : 예측값과 실제값의 차이를 나타낸 지표로 \n",
    "# 1) MSE\n",
    "print('1) MSE:', mean_squared_error(y_test, y_pre))    # 7.42\n",
    "# 2) MAE\n",
    "print('2) MAE:', mean_absolute_error(y_test, y_pre))   # 1.739\n",
    "# 3) R2\n",
    "r2_scores = r2_score(y_test, y_pre)\n",
    "#print('3) R2:', r2_scores)   # 0.88\n",
    "# 4) RMSE\n",
    "rmse = mean_squared_error(y_test, y_pre, squared=False)\n",
    "print('4) RMSE:', rmse) # 2.724"
   ]
  },
  {
   "cell_type": "markdown",
   "metadata": {},
   "source": [
    " 해당 Dataset에 어류가 품종별로 있으므로,    \n",
    "\n",
    "\n",
    " 너무 튀는 강꼬치고기를 없애버리고(씨익),    \n",
    " 회귀분석을 하였을 때    \n",
    " 최고의 값은 다음과 같다    \n",
    "\n",
    "n_neighbors = 16\n",
    "weights = 'distance'\n",
    "algorithm = 'brute'\n",
    "\n",
    " train score : 98.8%\n",
    " test_score : 96.9% \n",
    " 오차제곱합 : 1.5\n",
    " 오차절댓값 합 : 1.12"
   ]
  },
  {
   "cell_type": "markdown",
   "metadata": {},
   "source": []
  },
  {
   "cell_type": "code",
   "execution_count": 192,
   "metadata": {},
   "outputs": [],
   "source": [
    "import pandas as pd\n",
    "import matplotlib.pyplot as plt\n",
    "from sklearn.neighbors import KNeighborsClassifier\n",
    "from sklearn.model_selection import train_test_split\n",
    "from sklearn.preprocessing import StandardScaler, MinMaxScaler\n",
    "import koreanize_matplotlib\n",
    "from sklearn.linear_model import LinearRegression\n",
    "import numpy as np\n",
    "import seaborn as sns\n",
    "from sklearn.metrics import mean_squared_error,mean_absolute_error, r2_score\n",
    "from sklearn.neighbors import KNeighborsRegressor\n",
    "from scipy import stats\n",
    "# feature : 무게, target : 길이, 데이터 비율(훈련:테스트 = 0.7:0.3)\n",
    "def func(ratio=0.3, k_limit=10) :\n",
    "    df=pd.read_csv(\"../data/fish.csv\")\n",
    "    test=df[[\"Species\",\"Weight\",\"Length\"]]\n",
    "    df=test[test[\"Species\"].isin([\"Perch\"])]\n",
    "    feature=df[[\"Weight\"]]\n",
    "    target=df[\"Length\"]\n",
    "    x_train, x_test, y_train, y_test = train_test_split(feature, target, test_size=ratio)\n",
    "    score=dict()\n",
    "    for i in range(1,k_limit):\n",
    "        for j in ['uniform','distance']:\n",
    "            for s in ['auto','ball_tree','kd_tree','brute']:\n",
    "                model = KNeighborsRegressor(n_neighbors=i, weights=j, algorithm=s)\n",
    "                model.fit(x_train, y_train)\n",
    "                y_pre=model.predict(x_test)\n",
    "                score.setdefault((i,j,s),[model.score(x_train, y_train),model.score(x_test, y_test),\n",
    "                                        mean_squared_error(y_test, y_pre, squared=False) , # RMSE\n",
    "                                        mean_absolute_error(y_test, y_pre), # MAE\n",
    "                                        mean_squared_error(y_test, y_pre),# MSE\n",
    "                                        r2_score(y_test, y_pre)]) # R2\n",
    "    # 성능 ,R^2, 오차제곱합, 오차절댓값합\n",
    "    # 훈련점수 > 테스트 점수 : 과대적합(Overfitting)\n",
    "    # 훈련점수 ≒ 테스트점수 : 최적적합\n",
    "    # 훈련점수 ↓, 테스트점수 ↓ : 과소적합(Underfitting)\n",
    "    max(score, key=score.get)\n",
    "    res=max(score.values())\n",
    "    print(f\"최적의 조건 : {max(score, key=score.get)}\")\n",
    "    print(f\"train score : {res[0]}\")\n",
    "    print(f\"test score : {res[1]}\")\n",
    "    print(f\"RMSE score : {res[2]}\")\n",
    "    print(f\"MAE score : {res[3]}\")\n",
    "    print(f\"MSE score : {res[4]}\")\n",
    "    print(f\"R2 score : {res[5]}\")"
   ]
  },
  {
   "cell_type": "code",
   "execution_count": 218,
   "metadata": {},
   "outputs": [
    {
     "name": "stdout",
     "output_type": "stream",
     "text": [
      "최적의 조건 : (7, 'distance', 'auto')\n",
      "train score : 0.9991394056279662\n",
      "test score : 0.9734474343912205\n",
      "RMSE score : 1.2271198352763217\n",
      "MAE score : 0.9496983126211631\n",
      "MSE score : 1.5058230901285867\n",
      "R2 score : 0.9734474343912205\n"
     ]
    }
   ],
   "source": [
    "func(0.368,10) # 첫번째 인수 : 테스트 비율 "
   ]
  }
 ],
 "metadata": {
  "kernelspec": {
   "display_name": "EXAM_ML",
   "language": "python",
   "name": "python3"
  },
  "language_info": {
   "codemirror_mode": {
    "name": "ipython",
    "version": 3
   },
   "file_extension": ".py",
   "mimetype": "text/x-python",
   "name": "python",
   "nbconvert_exporter": "python",
   "pygments_lexer": "ipython3",
   "version": "3.9.18"
  }
 },
 "nbformat": 4,
 "nbformat_minor": 2
}
